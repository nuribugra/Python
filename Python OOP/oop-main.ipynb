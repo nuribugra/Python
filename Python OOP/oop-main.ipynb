{
 "cells": [
  {
   "cell_type": "markdown",
   "metadata": {},
   "source": [
    "\n",
    "Object-Oriented Programming (OOP) is a significant paradigm in Python and many other programming languages. It provides a structured way to model the real world by representing entities as objects, each with its data and functions (methods).\n",
    "\n",
    "In Python, everything is an object, making it a powerful OOP language. You can create classes to define object blueprints, and then you can create instances (objects) from these classes. Each object can have its attributes (data) and methods (functions). This approach promotes modularity, code reusability, and easier maintenance.\n",
    "\n",
    "Understanding OOP principles like encapsulation, inheritance, and polymorphism is essential when working on larger projects or collaborating with other developers. Python's support for OOP empowers you to write clean and organized code, making complex tasks more manageable and enhancing your programming skills."
   ]
  },
  {
   "cell_type": "markdown",
   "metadata": {},
   "source": [
    "*Classes*\n",
    "\n",
    "In Python, classes are an essential concept that enables you to create your custom data types and define how they work. They serve as templates for making objects, which are instances of those classes. Classes bundle data (attributes) and the methods (functions) that handle that data, providing a structured way to model real-world entities and their interactions.\n",
    "\n",
    "By using classes, you can better organize your code, encourage code reuse, and apply object-oriented programming (OOP) principles like inheritance and polymorphism. Whether you're crafting basic data structures or intricate applications, a grasp of classes is vital for writing clear, modular, and sustainable Python code."
   ]
  },
  {
   "cell_type": "code",
   "execution_count": 5,
   "metadata": {},
   "outputs": [
    {
     "name": "stdout",
     "output_type": "stream",
     "text": [
      "init method is worked\n",
      "init method is worked\n",
      "p1 name: Buğra and birth year: 2003, address: İzmir\n",
      "p2 name: Deniz and birth year: 2017, address: Kocaeli\n"
     ]
    }
   ],
   "source": [
    "class Person:\n",
    "    # class attributes\n",
    "    address = \"no information\"\n",
    "\n",
    "    # constructor (yapıcı metot)\n",
    "    def __init__(self, name, year):\n",
    "        # object(instance) attributes\n",
    "\n",
    "        self.fName = name\n",
    "        self.birthYear = year\n",
    "        print(\"init method is worked\")\n",
    "\n",
    "        # methods\n",
    "\n",
    "# object(instance)\n",
    "\n",
    "p1 = Person(\"Buğra\", 2003)\n",
    "p2 = Person(\"Deniz\", 2017)\n",
    "\n",
    "p1.address = \"İzmir\"\n",
    "p2.address = \"Kocaeli\"\n",
    "\n",
    "print(f\"p1 name: {p1.fName} and birth year: {p1.birthYear}, address: {p1.address}\")\n",
    "print(f\"p2 name: {p2.fName} and birth year: {p2.birthYear}, address: {p2.address}\")"
   ]
  },
  {
   "cell_type": "markdown",
   "metadata": {},
   "source": [
    "Methods are an integral part of Object-Oriented Programming (OOP) in Python. In OOP, a method is a function that is associated with a class. It defines the behaviors and actions that objects created from the class can perform.\n",
    "\n",
    "Methods allow you to encapsulate functionality within a class, making it easier to organize and maintain code. They operate on the data and attributes of the class, and they can also interact with other methods within the same class.\n",
    "\n",
    "There are two main types of methods in Python classes:\n",
    "\n",
    "1. Instance Methods: These methods are associated with instances (objects) of a class. They can access and modify instance-specific data and attributes.\n",
    "\n",
    "2. Class Methods: Class methods are bound to the class rather than instances. They are defined using the @classmethod decorator and often work with class-level data and attributes.\n",
    "\n",
    "Understanding how to define and use methods is essential for building robust and organized code in Python's OOP paradigm. Methods enable you to create reusable and structured classes, making your code more maintainable and extensible."
   ]
  },
  {
   "cell_type": "code",
   "execution_count": 1,
   "metadata": {},
   "outputs": [
    {
     "name": "stdout",
     "output_type": "stream",
     "text": [
      "c1 area: 50.24 perimeter: 25.12\n",
      "c2 area: 200.96 perimeter: 50.24\n"
     ]
    }
   ],
   "source": [
    "class Circle:\n",
    "    #class object attribute\n",
    "    pi = 3.14\n",
    "\n",
    "    def __init__(self, radius=1):\n",
    "        self.radius = radius    \n",
    "\n",
    "    #methods\n",
    "\n",
    "    def calculate_perimeter(self):\n",
    "        return 2 * self.pi * self.radius\n",
    "    \n",
    "    def calculate_area(self):\n",
    "        return self.pi * (self.radius ** 2)\n",
    "    \n",
    "\n",
    "c1 = Circle(4)\n",
    "c2 = Circle(8)\n",
    "\n",
    "print(f\"c1 area: {c1.calculate_area()} perimeter: {c1.calculate_perimeter()}\")\n",
    "print(f\"c2 area: {c2.calculate_area()} perimeter: {c2.calculate_perimeter()}\")"
   ]
  },
  {
   "cell_type": "markdown",
   "metadata": {},
   "source": [
    "*Inheritance*\n",
    "\n",
    "Inheritance is a fundamental concept in Object-Oriented Programming (OOP) with Python. It allows you to create new classes based on existing ones, inheriting their attributes and behaviors. This mechanism promotes code reusability and a hierarchical structure, making it easier to model and represent real-world relationships in your software.\n",
    "\n",
    "In Python, inheritance is achieved by creating a new class that derives from an existing class, known as the \"base\" or \"parent\" class. The new class is referred to as the \"derived\" or \"child\" class. The child class inherits the properties and methods of the parent class, allowing you to extend or override them as needed.\n",
    "\n",
    "This approach enables you to build specialized classes while leveraging the functionality of more general ones. It simplifies code maintenance and promotes a cleaner, organized codebase.\n",
    "\n",
    "Python supports multiple inheritance, allowing a class to inherit from multiple parent classes. However, this should be used judiciously, as it can lead to complex class hierarchies.\n",
    "\n",
    "Inheritance is a crucial concept for software developers, enabling them to create efficient, modular, and maintainable code. As you delve into Python's OOP paradigm, you'll explore inheritance further and gain a deeper understanding of its applications and best practices."
   ]
  },
  {
   "cell_type": "code",
   "execution_count": 13,
   "metadata": {},
   "outputs": [
    {
     "name": "stdout",
     "output_type": "stream",
     "text": [
      "Person created.\n",
      "Person created.\n",
      "Student created.\n",
      "Person created.\n",
      "Burak Yılmaz\n",
      "Arda Güler 456\n",
      "********************\n",
      "I am a person.\n",
      "I am a student.\n",
      "I am a Math teacher.\n",
      "I am eating.\n",
      "I am eating.\n",
      "Hello, I am a student.\n"
     ]
    }
   ],
   "source": [
    "# Person => Student(Person), Teacher(Person)\n",
    "# Animal => Dog(Animal), Cat(Animal)\n",
    "\n",
    "class Person():\n",
    "\n",
    "    def __init__(self, fName, lName):\n",
    "        self.firstName = fName\n",
    "        self.lastName = lName\n",
    "        print(\"Person created.\")\n",
    "\n",
    "    def who_am_i(self):\n",
    "        print(\"I am a person.\")\n",
    "    \n",
    "    def eat(self):\n",
    "        print(\"I am eating.\")\n",
    "\n",
    "class Student(Person):\n",
    "    def __init__(self, fName, lName, number):\n",
    "        Person.__init__(self, fName, lName)\n",
    "\n",
    "        print(\"Student created.\")\n",
    "\n",
    "        self.number = number\n",
    "    \n",
    "    def who_am_i(self): #Override\n",
    "        print(\"I am a student.\")\n",
    "\n",
    "    def sayHello(self):\n",
    "        print(\"Hello, I am a student.\")\n",
    "\n",
    "class Teacher(Person):\n",
    "    def __init__(self, fName, lName, branch):\n",
    "        super().__init__(fName, lName) # instead of Person.__init__(self, fName, lName)\n",
    "        self.branch = branch\n",
    "    \n",
    "    def who_am_i(self):\n",
    "        print(f\"I am a {self.branch} teacher.\")\n",
    "\n",
    "p1 = Person(\"Burak\", \"Yılmaz\")\n",
    "s1 = Student(\"Arda\", \"Güler\", 456)\n",
    "t1 = Teacher(\"Deniz\", \"Yılmaz\", \"Math\")\n",
    "\n",
    "print(p1.firstName + \" \" + p1.lastName)\n",
    "print(s1.firstName + \" \" + s1.lastName + \" \" + str(s1.number))\n",
    "\n",
    "print(\"*\"*20)\n",
    "\n",
    "p1.who_am_i()\n",
    "s1.who_am_i()\n",
    "t1.who_am_i()\n",
    "\n",
    "p1.eat()\n",
    "s1.eat()\n",
    "s1.sayHello()"
   ]
  },
  {
   "cell_type": "markdown",
   "metadata": {},
   "source": [
    "*Special Methods*"
   ]
  },
  {
   "cell_type": "code",
   "execution_count": 26,
   "metadata": {},
   "outputs": [
    {
     "name": "stdout",
     "output_type": "stream",
     "text": [
      "Movie object created.\n",
      "[1, 2, 3]\n",
      "Interstellar by Christopher Nolan.\n",
      "3\n",
      "120\n",
      "Movie object deleted.\n"
     ]
    },
    {
     "ename": "NameError",
     "evalue": "name 'm' is not defined",
     "output_type": "error",
     "traceback": [
      "\u001b[1;31m---------------------------------------------------------------------------\u001b[0m",
      "\u001b[1;31mNameError\u001b[0m                                 Traceback (most recent call last)",
      "\u001b[1;32mc:\\Users\\Nuri Buğra Demir\\Desktop\\Python Studies\\Python OOP\\oop-main.ipynb Cell 9\u001b[0m line \u001b[0;36m3\n\u001b[0;32m     <a href='vscode-notebook-cell:/c%3A/Users/Nuri%20Bu%C4%9Fra%20Demir/Desktop/Python%20Studies/Python%20OOP/oop-main.ipynb#X11sZmlsZQ%3D%3D?line=32'>33</a>\u001b[0m \u001b[39mprint\u001b[39m(\u001b[39mlen\u001b[39m(m))\n\u001b[0;32m     <a href='vscode-notebook-cell:/c%3A/Users/Nuri%20Bu%C4%9Fra%20Demir/Desktop/Python%20Studies/Python%20OOP/oop-main.ipynb#X11sZmlsZQ%3D%3D?line=34'>35</a>\u001b[0m \u001b[39mdel\u001b[39;00m m \u001b[39m# delete object\u001b[39;00m\n\u001b[1;32m---> <a href='vscode-notebook-cell:/c%3A/Users/Nuri%20Bu%C4%9Fra%20Demir/Desktop/Python%20Studies/Python%20OOP/oop-main.ipynb#X11sZmlsZQ%3D%3D?line=36'>37</a>\u001b[0m \u001b[39mprint\u001b[39m(m)\n",
      "\u001b[1;31mNameError\u001b[0m: name 'm' is not defined"
     ]
    }
   ],
   "source": [
    "my_list = [1,2,3]\n",
    "my_string = \"Hello\"\n",
    "\n",
    "# print(type(my_list))\n",
    "# print(type(my_string))\n",
    "\n",
    "\n",
    "class Movie():\n",
    "    def __init__(self, title, director, duration):\n",
    "        self.title = title\n",
    "        self.director = director\n",
    "        self.duration = duration\n",
    "\n",
    "        print(\"Movie object created.\")\n",
    "\n",
    "    def __str__(self):\n",
    "        return f\"{self.title} by {self.director}.\"\n",
    "    \n",
    "    def __len__(self):\n",
    "        return self.duration\n",
    "    \n",
    "    def __del__(self):\n",
    "        print(\"Movie object deleted.\")\n",
    "\n",
    "m = Movie(\"Interstellar\", \"Christopher Nolan\", 120)\n",
    "\n",
    "# print(type(m))\n",
    "# print(len(m))\n",
    "\n",
    "print(str(my_list))\n",
    "print(str(m))\n",
    "print(len(my_list))\n",
    "print(len(m))\n",
    "\n",
    "del m # delete object\n",
    "\n",
    "print(m)\n",
    "\n",
    "# For more special method => https://docs.python.org/3/reference/datamodel.html#special-method-names\n"
   ]
  }
 ],
 "metadata": {
  "kernelspec": {
   "display_name": "Python 3",
   "language": "python",
   "name": "python3"
  },
  "language_info": {
   "codemirror_mode": {
    "name": "ipython",
    "version": 3
   },
   "file_extension": ".py",
   "mimetype": "text/x-python",
   "name": "python",
   "nbconvert_exporter": "python",
   "pygments_lexer": "ipython3",
   "version": "3.11.4"
  }
 },
 "nbformat": 4,
 "nbformat_minor": 2
}
