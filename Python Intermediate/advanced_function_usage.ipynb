{
 "cells": [
  {
   "cell_type": "markdown",
   "metadata": {},
   "source": [
    "\n",
    "*Nested Functions*\n",
    "\n",
    "In Python, nested functions are a powerful concept where you define a function within another function. This allows you to create more structured and modular code. By utilizing nested functions, you can break down complex problems into smaller, more manageable parts. These inner functions can access variables from the outer function, facilitating data encapsulation and enhancing code readability. Nested functions are a valuable tool in your Python programming toolkit."
   ]
  },
  {
   "cell_type": "code",
   "execution_count": 5,
   "metadata": {},
   "outputs": [
    {
     "name": "stdout",
     "output_type": "stream",
     "text": [
      "This is outer function\n"
     ]
    },
    {
     "ename": "NameError",
     "evalue": "name 'inner_function' is not defined",
     "output_type": "error",
     "traceback": [
      "\u001b[1;31m---------------------------------------------------------------------------\u001b[0m",
      "\u001b[1;31mNameError\u001b[0m                                 Traceback (most recent call last)",
      "\u001b[1;32mc:\\Users\\Nuri Buğra Demir\\Desktop\\Python Studies\\Python Intermediate\\advanced_function_usage.ipynb Cell 2\u001b[0m line \u001b[0;36m1\n\u001b[0;32m      <a href='vscode-notebook-cell:/c%3A/Users/Nuri%20Bu%C4%9Fra%20Demir/Desktop/Python%20Studies/Python%20Intermediate/advanced_function_usage.ipynb#W0sZmlsZQ%3D%3D?line=7'>8</a>\u001b[0m     \u001b[39m# inner_function()\u001b[39;00m\n\u001b[0;32m     <a href='vscode-notebook-cell:/c%3A/Users/Nuri%20Bu%C4%9Fra%20Demir/Desktop/Python%20Studies/Python%20Intermediate/advanced_function_usage.ipynb#W0sZmlsZQ%3D%3D?line=9'>10</a>\u001b[0m outer_function()\n\u001b[1;32m---> <a href='vscode-notebook-cell:/c%3A/Users/Nuri%20Bu%C4%9Fra%20Demir/Desktop/Python%20Studies/Python%20Intermediate/advanced_function_usage.ipynb#W0sZmlsZQ%3D%3D?line=11'>12</a>\u001b[0m inner_function() \u001b[39m# This will give error because inner_function is not defined outside outer_function.\u001b[39;00m\n",
      "\u001b[1;31mNameError\u001b[0m: name 'inner_function' is not defined"
     ]
    }
   ],
   "source": [
    "# Encapsulation\n",
    "\n",
    "def outer_function():\n",
    "\n",
    "    def inner_function():\n",
    "        print(\"This is inner function\") # This is not printed because inner_function is not called.\n",
    "    print(\"This is outer function\")\n",
    "    # inner_function()\n",
    "\n",
    "outer_function()\n",
    "\n",
    "inner_function() # This will give error because inner_function is not defined outside outer_function."
   ]
  },
  {
   "cell_type": "code",
   "execution_count": 12,
   "metadata": {},
   "outputs": [
    {
     "name": "stdout",
     "output_type": "stream",
     "text": [
      "Sorry. 'number' must be zero or positive.\n"
     ]
    }
   ],
   "source": [
    "def factorial(number):\n",
    "\n",
    "    if not isinstance(number, int): # isinstance() function checks if the object (first argument) is an instance or subclass of classinfo class (second argument).\n",
    "        raise TypeError(\"Sorry. 'number' must be an integer.\")\n",
    "\n",
    "    if not number >= 0:\n",
    "        raise ValueError(\"Sorry. 'number' must be zero or positive.\")\n",
    "\n",
    "    def inner_factorial(number):\n",
    "        if number <= 1:\n",
    "            return 1\n",
    "        else:\n",
    "            return number * factorial(number - 1)\n",
    "    \n",
    "    return inner_factorial(number)\n",
    "\n",
    "try:\n",
    "    print(factorial(6))\n",
    "except Exception as e:\n",
    "    print(e)"
   ]
  },
  {
   "cell_type": "markdown",
   "metadata": {},
   "source": [
    "*Returning*\n",
    "\n",
    "In Python, functions are not only used to perform actions but can also be employed to return values or other functions. This concept of returning functions opens up opportunities for more dynamic and flexible programming. By returning functions, you can create higher-order functions, which are functions that can accept other functions as arguments and, in turn, return new functions as results. This can be particularly useful in situations where you need to customize or adapt a function's behavior based on certain conditions or inputs. Returning functions is a fundamental feature in Python, enabling you to write more modular and reusable code."
   ]
  },
  {
   "cell_type": "code",
   "execution_count": 13,
   "metadata": {},
   "outputs": [
    {
     "name": "stdout",
     "output_type": "stream",
     "text": [
      "8\n",
      "81\n"
     ]
    }
   ],
   "source": [
    "def exponention(number):\n",
    "    def inner(exponent):\n",
    "        return number ** exponent\n",
    "    \n",
    "    return inner\n",
    "\n",
    "two = exponention(2)\n",
    "three = exponention(3)\n",
    "\n",
    "print(two(3))\n",
    "print(three(4))"
   ]
  },
  {
   "cell_type": "code",
   "execution_count": 15,
   "metadata": {},
   "outputs": [
    {
     "name": "stdout",
     "output_type": "stream",
     "text": [
      "Admin role can access Product Edit page.\n",
      "User role can not access Product Edit page.\n"
     ]
    }
   ],
   "source": [
    "def authorization_check(page):\n",
    "    def inner(role):\n",
    "        if role == \"Admin\":\n",
    "            return \"{0} role can access {1} page.\".format(role, page)\n",
    "        else:\n",
    "            return \"{0} role can not access {1} page.\".format(role, page)\n",
    "    \n",
    "    return inner\n",
    "\n",
    "user1 = authorization_check(\"Product Edit\")\n",
    "print(user1(\"Admin\"))\n",
    "print(user1(\"User\"))\n",
    "        "
   ]
  },
  {
   "cell_type": "markdown",
   "metadata": {},
   "source": [
    "*Functions as Parameters*"
   ]
  },
  {
   "cell_type": "code",
   "execution_count": 16,
   "metadata": {},
   "outputs": [
    {
     "name": "stdout",
     "output_type": "stream",
     "text": [
      "5\n",
      "2\n",
      "12\n",
      "5.0\n",
      "There is no such operation.\n"
     ]
    }
   ],
   "source": [
    "def addition(a,b):\n",
    "    return a+b\n",
    "def extraction(a,b):\n",
    "    return a-b\n",
    "def multiplication(a,b):\n",
    "    return a*b\n",
    "def division(a,b):\n",
    "    return a/b\n",
    "\n",
    "def operation(f1, f2, f3, f4, islem_adi):\n",
    "    if islem_adi== \"addition\":\n",
    "        print(f1(2,3))\n",
    "    elif islem_adi == \"extraction\":\n",
    "        print(f2(5,3))\n",
    "    elif islem_adi == \"multiplication\":\n",
    "        print(f3(3,4))\n",
    "    elif islem_adi == \"division\":\n",
    "        print(f4(10,2))\n",
    "    else:\n",
    "        print(\"There is no such operation.\")\n",
    "\n",
    "operation(addition, extraction, multiplication, division, \"addition\")\n",
    "operation(addition, extraction, multiplication, division, \"extraction\")\n",
    "operation(addition, extraction, multiplication, division, \"multiplication\")\n",
    "operation(addition, extraction, multiplication, division, \"division\")\n",
    "operation(addition, extraction, multiplication, division, \"mod\")"
   ]
  },
  {
   "cell_type": "markdown",
   "metadata": {},
   "source": [
    "*Decorator Functions*\n",
    "\n",
    "Decorator functions in Python are a powerful and versatile feature that allow you to modify or enhance the behavior of other functions or methods. These decorators provide a convenient way to wrap functions, extending their functionality without modifying their core code. By using decorators, you can encapsulate common tasks such as logging, authentication, or input validation and apply them uniformly to various functions.\n",
    "\n",
    "Decorators are often employed to add reusable features to functions, making your code cleaner, more organized, and easier to maintain. They promote the DRY (Don't Repeat Yourself) principle, as you can apply the same functionality to multiple functions without duplicating code.\n",
    "\n",
    "To create a decorator, you define a function that takes another function as an argument, performs some actions before or after invoking the inner function, and then returns the result. Decorators are indicated by the \"@\" symbol in front of a function. They can be used for various purposes, including timing, caching, security checks, and much more.\n",
    "\n",
    "Python's decorator feature is a valuable tool in your programming arsenal, enabling you to build cleaner and more efficient code."
   ]
  },
  {
   "cell_type": "code",
   "execution_count": 19,
   "metadata": {},
   "outputs": [
    {
     "name": "stdout",
     "output_type": "stream",
     "text": [
      "Before function\n",
      "Hello\n",
      "After function\n"
     ]
    }
   ],
   "source": [
    "def my_decorator(func):\n",
    "    def wrapper():\n",
    "        print(\"Before function\")\n",
    "        func()\n",
    "        print(\"After function\")\n",
    "    \n",
    "    return wrapper\n",
    "\n",
    "@my_decorator\n",
    "def sayHello():\n",
    "    print(\"Hello\")\n",
    "\n",
    "sayHello()\n",
    "\n",
    "# sayHello = my_decorator(sayHello)\n",
    "# sayHello()\n",
    "# Instead of this, we can use @my_decorator"
   ]
  },
  {
   "cell_type": "code",
   "execution_count": 24,
   "metadata": {},
   "outputs": [
    {
     "name": "stdout",
     "output_type": "stream",
     "text": [
      "8.0\n",
      "Function exponention took 1.0005817413330078 seconds.\n",
      "24\n",
      "Function factorial took 1.0009377002716064 seconds.\n",
      "8\n",
      "Function addition took 1.0004878044128418 seconds.\n"
     ]
    }
   ],
   "source": [
    "import math\n",
    "import time\n",
    "\n",
    "def calculate_time(func):\n",
    "\n",
    "    def inner(*args, **kwargs):\n",
    "\n",
    "        start = time.time()\n",
    "\n",
    "        time.sleep(1)\n",
    "\n",
    "        func(*args, **kwargs)\n",
    "\n",
    "        finish = time.time()\n",
    "\n",
    "        print(f\"Function {func.__name__} took {finish - start} seconds.\") # func.__name__ gives function name.\n",
    "    \n",
    "    return inner\n",
    "\n",
    "\n",
    "@calculate_time\n",
    "def exponention(number, power):\n",
    "    print(math.pow(number, power))\n",
    "\n",
    "@calculate_time\n",
    "def factorial(number):\n",
    "    print(math.factorial(number))\n",
    "\n",
    "@calculate_time\n",
    "def addition(a,b):\n",
    "    print(a+b)\n",
    "\n",
    "exponention(2,3)\n",
    "factorial(4)\n",
    "addition(3,5)"
   ]
  }
 ],
 "metadata": {
  "kernelspec": {
   "display_name": "Python 3",
   "language": "python",
   "name": "python3"
  },
  "language_info": {
   "codemirror_mode": {
    "name": "ipython",
    "version": 3
   },
   "file_extension": ".py",
   "mimetype": "text/x-python",
   "name": "python",
   "nbconvert_exporter": "python",
   "pygments_lexer": "ipython3",
   "version": "3.11.4"
  }
 },
 "nbformat": 4,
 "nbformat_minor": 2
}
