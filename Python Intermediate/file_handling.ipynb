{
 "cells": [
  {
   "cell_type": "markdown",
   "metadata": {},
   "source": [
    "In Python, file handling is a fundamental concept that enables you to work with files on your computer. It encompasses tasks like opening, reading, writing, and closing files. This capability is crucial for many real-world applications, such as data processing, configuration management, and more.\n",
    "\n",
    "Python provides a straightforward and flexible approach to file handling. You can open files in different modes, including read-only, write-only, and read-write, using the `open()` function. Once a file is open, you can perform operations like reading its contents, writing new data, or appending to existing data.\n",
    "\n",
    "File handling in Python also includes advanced features like working with binary files, using context managers for safer file operations, and working with different file formats, such as CSV or JSON.\n",
    "\n",
    "Overall, understanding file handling is essential for various programming tasks, from simple text processing to complex data manipulation."
   ]
  },
  {
   "cell_type": "code",
   "execution_count": 1,
   "metadata": {},
   "outputs": [
    {
     "name": "stdout",
     "output_type": "stream",
     "text": [
      "<_io.TextIOWrapper name='newfile.txt' mode='w' encoding='cp1254'>\n"
     ]
    }
   ],
   "source": [
    "# open(file_name, file_access_mode)\n",
    "\n",
    "# File Access Modes \n",
    "\n",
    "# \"w\" Write mode.  \n",
    "\n",
    "result = open(\"newfile.txt\", \"w\")\n",
    "print(result)"
   ]
  },
  {
   "cell_type": "markdown",
   "metadata": {},
   "source": [
    "*`close()` Method*\n",
    "\n",
    "\n",
    "In Python, the close() function is used for file handling. This function is called on a file object and is responsible for closing the file that was opened using the open() function. When you're done working with a file, it's essential to close it using close().\n",
    "\n",
    "Closing a file is important for several reasons:\n",
    "\n",
    "1. Resource Management: Open files consume system resources. Not closing files can lead to resource leaks and potentially slow down your program.\n",
    "\n",
    "2. Data Integrity: Closing a file ensures that any buffered data is correctly written to the file. If you don't close it, some data may not get written, leading to file corruption.\n",
    "\n",
    "3. Allowing Other Programs: Some operating systems don't allow multiple programs to access the same file simultaneously. Closing a file releases it for other processes to use."
   ]
  },
  {
   "cell_type": "code",
   "execution_count": 2,
   "metadata": {},
   "outputs": [
    {
     "ename": "FileExistsError",
     "evalue": "[Errno 17] File exists: 'newfile2.txt'",
     "output_type": "error",
     "traceback": [
      "\u001b[1;31m---------------------------------------------------------------------------\u001b[0m",
      "\u001b[1;31mFileExistsError\u001b[0m                           Traceback (most recent call last)",
      "\u001b[1;32mc:\\Users\\Nuri Buğra Demir\\Desktop\\Python Studies\\Python Intermediate\\file_handling.ipynb Cell 4\u001b[0m line \u001b[0;36m1\n\u001b[0;32m      <a href='vscode-notebook-cell:/c%3A/Users/Nuri%20Bu%C4%9Fra%20Demir/Desktop/Python%20Studies/Python%20Intermediate/file_handling.ipynb#W3sZmlsZQ%3D%3D?line=0'>1</a>\u001b[0m \u001b[39m# file = open(\"newfile.txt\", \"w\", encoding=\"utf-8\")\u001b[39;00m\n\u001b[0;32m      <a href='vscode-notebook-cell:/c%3A/Users/Nuri%20Bu%C4%9Fra%20Demir/Desktop/Python%20Studies/Python%20Intermediate/file_handling.ipynb#W3sZmlsZQ%3D%3D?line=1'>2</a>\u001b[0m \u001b[39m# file.write(\"Nuri Buğra Demir\") changes are not permanent. When we use write mode, it deletes the previous data and writes the new data. But this new data is not permanent.\u001b[39;00m\n\u001b[0;32m      <a href='vscode-notebook-cell:/c%3A/Users/Nuri%20Bu%C4%9Fra%20Demir/Desktop/Python%20Studies/Python%20Intermediate/file_handling.ipynb#W3sZmlsZQ%3D%3D?line=2'>3</a>\u001b[0m \u001b[39m# file.close()\u001b[39;00m\n\u001b[1;32m   (...)\u001b[0m\n\u001b[0;32m     <a href='vscode-notebook-cell:/c%3A/Users/Nuri%20Bu%C4%9Fra%20Demir/Desktop/Python%20Studies/Python%20Intermediate/file_handling.ipynb#W3sZmlsZQ%3D%3D?line=13'>14</a>\u001b[0m \n\u001b[0;32m     <a href='vscode-notebook-cell:/c%3A/Users/Nuri%20Bu%C4%9Fra%20Demir/Desktop/Python%20Studies/Python%20Intermediate/file_handling.ipynb#W3sZmlsZQ%3D%3D?line=14'>15</a>\u001b[0m \u001b[39m# \"x\" Create mode. It creates a new file. If there is a file with the same name, it gives an error.\u001b[39;00m\n\u001b[1;32m---> <a href='vscode-notebook-cell:/c%3A/Users/Nuri%20Bu%C4%9Fra%20Demir/Desktop/Python%20Studies/Python%20Intermediate/file_handling.ipynb#W3sZmlsZQ%3D%3D?line=16'>17</a>\u001b[0m file \u001b[39m=\u001b[39m \u001b[39mopen\u001b[39;49m(\u001b[39m\"\u001b[39;49m\u001b[39mnewfile2.txt\u001b[39;49m\u001b[39m\"\u001b[39;49m, \u001b[39m\"\u001b[39;49m\u001b[39mx\u001b[39;49m\u001b[39m\"\u001b[39;49m, encoding\u001b[39m=\u001b[39;49m\u001b[39m\"\u001b[39;49m\u001b[39mutf-8\u001b[39;49m\u001b[39m\"\u001b[39;49m) \u001b[39m# It creates a new file. But if we run this code again, it gives an error.\u001b[39;00m\n\u001b[0;32m     <a href='vscode-notebook-cell:/c%3A/Users/Nuri%20Bu%C4%9Fra%20Demir/Desktop/Python%20Studies/Python%20Intermediate/file_handling.ipynb#W3sZmlsZQ%3D%3D?line=17'>18</a>\u001b[0m file\u001b[39m.\u001b[39mwrite(\u001b[39m\"\u001b[39m\u001b[39mNuri Buğra Demir\u001b[39m\u001b[39m\"\u001b[39m) \n\u001b[0;32m     <a href='vscode-notebook-cell:/c%3A/Users/Nuri%20Bu%C4%9Fra%20Demir/Desktop/Python%20Studies/Python%20Intermediate/file_handling.ipynb#W3sZmlsZQ%3D%3D?line=18'>19</a>\u001b[0m file\u001b[39m.\u001b[39mclose()\n",
      "File \u001b[1;32m~\\AppData\\Roaming\\Python\\Python311\\site-packages\\IPython\\core\\interactiveshell.py:284\u001b[0m, in \u001b[0;36m_modified_open\u001b[1;34m(file, *args, **kwargs)\u001b[0m\n\u001b[0;32m    277\u001b[0m \u001b[39mif\u001b[39;00m file \u001b[39min\u001b[39;00m {\u001b[39m0\u001b[39m, \u001b[39m1\u001b[39m, \u001b[39m2\u001b[39m}:\n\u001b[0;32m    278\u001b[0m     \u001b[39mraise\u001b[39;00m \u001b[39mValueError\u001b[39;00m(\n\u001b[0;32m    279\u001b[0m         \u001b[39mf\u001b[39m\u001b[39m\"\u001b[39m\u001b[39mIPython won\u001b[39m\u001b[39m'\u001b[39m\u001b[39mt let you open fd=\u001b[39m\u001b[39m{\u001b[39;00mfile\u001b[39m}\u001b[39;00m\u001b[39m by default \u001b[39m\u001b[39m\"\u001b[39m\n\u001b[0;32m    280\u001b[0m         \u001b[39m\"\u001b[39m\u001b[39mas it is likely to crash IPython. If you know what you are doing, \u001b[39m\u001b[39m\"\u001b[39m\n\u001b[0;32m    281\u001b[0m         \u001b[39m\"\u001b[39m\u001b[39myou can use builtins\u001b[39m\u001b[39m'\u001b[39m\u001b[39m open.\u001b[39m\u001b[39m\"\u001b[39m\n\u001b[0;32m    282\u001b[0m     )\n\u001b[1;32m--> 284\u001b[0m \u001b[39mreturn\u001b[39;00m io_open(file, \u001b[39m*\u001b[39;49margs, \u001b[39m*\u001b[39;49m\u001b[39m*\u001b[39;49mkwargs)\n",
      "\u001b[1;31mFileExistsError\u001b[0m: [Errno 17] File exists: 'newfile2.txt'"
     ]
    }
   ],
   "source": [
    "# file = open(\"newfile.txt\", \"w\", encoding=\"utf-8\")\n",
    "# file.write(\"Nuri Buğra Demir\") changes are not permanent. When we use write mode, it deletes the previous data and writes the new data. But this new data is not permanent.\n",
    "# file.close()\n",
    "\n",
    "# Creating file in a different location\n",
    "# open(\"location\",\"mode\")\n",
    "\n",
    "\n",
    "# \"a\" Append mode. It adds the new data to the end of the file. It does not delete the previous data.\n",
    "\n",
    "# file = open(\"newfile.txt\", \"a\", encoding=\"utf-8\")\n",
    "# file.write(\"Nuri Buğra Demir\") # changes are permanent now. Because we used append mode.\n",
    "# file.close()\n",
    "\n",
    "# \"x\" Create mode. It creates a new file. If there is a file with the same name, it gives an error.\n",
    "\n",
    "file = open(\"newfile2.txt\", \"x\", encoding=\"utf-8\") # It creates a new file. But if we run this code again, it gives an error.\n",
    "file.write(\"Nuri Buğra Demir\") \n",
    "file.close()\n",
    "\n",
    "# \"r\" Read mode. It is the default mode. It reads the file. If there is no file with the given name, it gives an error."
   ]
  },
  {
   "cell_type": "markdown",
   "metadata": {},
   "source": [
    "*Reading A File*"
   ]
  },
  {
   "cell_type": "code",
   "execution_count": 5,
   "metadata": {},
   "outputs": [
    {
     "name": "stdout",
     "output_type": "stream",
     "text": [
      "Nuri Buğra Demir\n",
      "Deniz Berk Demir\n",
      "Ahmet Günyüz\n",
      "Hakan Mutlu\n",
      "Aslı Çelik\n",
      "Dilara Akyüz\n"
     ]
    }
   ],
   "source": [
    "file = open(\"newfile.txt\", \"r\", encoding = \"utf-8\")\n",
    "# print(file)\n",
    "\n",
    "# for i in file:\n",
    "#     print(i, end=\"\\n\")\n",
    "\n",
    "# We can use read() function instead of for loop. It reads the file as a string.\n",
    "\n",
    "content = file.read()\n",
    "\n",
    "print(content)"
   ]
  }
 ],
 "metadata": {
  "kernelspec": {
   "display_name": "Python 3",
   "language": "python",
   "name": "python3"
  },
  "language_info": {
   "codemirror_mode": {
    "name": "ipython",
    "version": 3
   },
   "file_extension": ".py",
   "mimetype": "text/x-python",
   "name": "python",
   "nbconvert_exporter": "python",
   "pygments_lexer": "ipython3",
   "version": "3.11.4"
  }
 },
 "nbformat": 4,
 "nbformat_minor": 2
}
