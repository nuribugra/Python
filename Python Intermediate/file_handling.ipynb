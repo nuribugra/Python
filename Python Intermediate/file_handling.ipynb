{
 "cells": [
  {
   "cell_type": "markdown",
   "metadata": {},
   "source": [
    "In Python, file handling is a fundamental concept that enables you to work with files on your computer. It encompasses tasks like opening, reading, writing, and closing files. This capability is crucial for many real-world applications, such as data processing, configuration management, and more.\n",
    "\n",
    "Python provides a straightforward and flexible approach to file handling. You can open files in different modes, including read-only, write-only, and read-write, using the `open()` function. Once a file is open, you can perform operations like reading its contents, writing new data, or appending to existing data.\n",
    "\n",
    "File handling in Python also includes advanced features like working with binary files, using context managers for safer file operations, and working with different file formats, such as CSV or JSON.\n",
    "\n",
    "Overall, understanding file handling is essential for various programming tasks, from simple text processing to complex data manipulation."
   ]
  },
  {
   "cell_type": "code",
   "execution_count": 1,
   "metadata": {},
   "outputs": [
    {
     "name": "stdout",
     "output_type": "stream",
     "text": [
      "<_io.TextIOWrapper name='newfile.txt' mode='w' encoding='cp1254'>\n"
     ]
    }
   ],
   "source": [
    "# open(file_name, file_access_mode)\n",
    "\n",
    "# File Access Modes \n",
    "\n",
    "# \"w\" Write mode.  \n",
    "\n",
    "# result = open(\"newfile.txt\", \"w\")\n",
    "# print(result)\n",
    "\n",
    "file = open(\"newfile.txt\", \"w\")\n",
    "file.close()\n",
    "\n",
    "\n",
    "# \"a\" Append mode. \n",
    "# \"x\" Create mode.\n",
    "# \"r\" Read mode."
   ]
  }
 ],
 "metadata": {
  "kernelspec": {
   "display_name": "Python 3",
   "language": "python",
   "name": "python3"
  },
  "language_info": {
   "codemirror_mode": {
    "name": "ipython",
    "version": 3
   },
   "file_extension": ".py",
   "mimetype": "text/x-python",
   "name": "python",
   "nbconvert_exporter": "python",
   "pygments_lexer": "ipython3",
   "version": "3.11.4"
  }
 },
 "nbformat": 4,
 "nbformat_minor": 2
}
