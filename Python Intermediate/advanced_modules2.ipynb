{
 "cells": [
  {
   "cell_type": "markdown",
   "metadata": {},
   "source": [
    "*Regular Expression Module*\n",
    "\n",
    "Regular expressions, often abbreviated as regex or regexp, provide a powerful and flexible way to search, match, and manipulate strings in Python. The `re` module in Python enables the use of regular expressions, allowing developers to perform complex pattern-matching operations with ease. Whether it's validating user input, extracting specific information from a text, or replacing patterns within strings, regular expressions play a crucial role in text processing tasks. Understanding and utilizing the `re` module can significantly enhance a programmer's ability to work with textual data efficiently."
   ]
  },
  {
   "cell_type": "code",
   "execution_count": 1,
   "metadata": {},
   "outputs": [],
   "source": [
    "import re\n",
    "\n",
    "str = \"Python Course: Python Programming for Beginners | 40 Hours\" # This string value is used for the following examples"
   ]
  },
  {
   "cell_type": "code",
   "execution_count": 11,
   "metadata": {},
   "outputs": [
    {
     "name": "stdout",
     "output_type": "stream",
     "text": [
      "Python Course: Python Programming for Beginners | 40 Hours\n"
     ]
    }
   ],
   "source": [
    "# re.findall() method: returns a list containing all matches\n",
    "\n",
    "result = re.findall(\"Python\", str)\n",
    "\n",
    "# re.split() method: returns a list where the string has been split at each match\n",
    "\n",
    "result = re.split(\" \", str) # \\s is used for whitespace\n",
    "\n",
    "# re.sub() method: replaces one or many matches with a string\n",
    "\n",
    "result = re.sub(\"Python\", \"Java\", str)\n",
    "\n",
    "#re.search() method: returns a Match object if there is a match anywhere in the string\n",
    "\n",
    "result = re.search(\"Python\", str)\n",
    "# result = result.span()\n",
    "# result = result.start()\n",
    "# result = result.end()\n",
    "# result = result.group()\n",
    "result = result.string\n",
    "\n",
    "print(result)"
   ]
  }
 ],
 "metadata": {
  "kernelspec": {
   "display_name": "Python 3",
   "language": "python",
   "name": "python3"
  },
  "language_info": {
   "codemirror_mode": {
    "name": "ipython",
    "version": 3
   },
   "file_extension": ".py",
   "mimetype": "text/x-python",
   "name": "python",
   "nbconvert_exporter": "python",
   "pygments_lexer": "ipython3",
   "version": "3.12.0"
  }
 },
 "nbformat": 4,
 "nbformat_minor": 2
}
