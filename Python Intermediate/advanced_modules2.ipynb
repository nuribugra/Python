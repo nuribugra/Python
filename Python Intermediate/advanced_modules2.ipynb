{
 "cells": [
  {
   "cell_type": "markdown",
   "metadata": {},
   "source": [
    "*Regular Expression Module*\n",
    "\n",
    "Regular expressions, often abbreviated as regex or regexp, provide a powerful and flexible way to search, match, and manipulate strings in Python. The `re` module in Python enables the use of regular expressions, allowing developers to perform complex pattern-matching operations with ease. Whether it's validating user input, extracting specific information from a text, or replacing patterns within strings, regular expressions play a crucial role in text processing tasks. Understanding and utilizing the `re` module can significantly enhance a programmer's ability to work with textual data efficiently."
   ]
  },
  {
   "cell_type": "code",
   "execution_count": 1,
   "metadata": {},
   "outputs": [],
   "source": [
    "import re\n",
    "\n",
    "str = \"Python Course: Python Programming for Beginners | 40 Hours\" # This string value is used for the following examples"
   ]
  },
  {
   "cell_type": "code",
   "execution_count": 2,
   "metadata": {},
   "outputs": [
    {
     "name": "stdout",
     "output_type": "stream",
     "text": [
      "Python Course: Python Programming for Beginners | 40 Hours\n"
     ]
    }
   ],
   "source": [
    "# re.findall() method: returns a list containing all matches\n",
    "\n",
    "result = re.findall(\"Python\", str)\n",
    "\n",
    "# re.split() method: returns a list where the string has been split at each match\n",
    "\n",
    "result = re.split(\" \", str) # \\s is used for whitespace\n",
    "\n",
    "# re.sub() method: replaces one or many matches with a string\n",
    "\n",
    "result = re.sub(\"Python\", \"Java\", str)\n",
    "\n",
    "#re.search() method: returns a Match object if there is a match anywhere in the string\n",
    "\n",
    "result = re.search(\"Python\", str)\n",
    "# result = result.span()\n",
    "# result = result.start()\n",
    "# result = result.end()\n",
    "# result = result.group()\n",
    "result = result.string\n",
    "\n",
    "print(result)"
   ]
  },
  {
   "cell_type": "code",
   "execution_count": 18,
   "metadata": {},
   "outputs": [
    {
     "name": "stdout",
     "output_type": "stream",
     "text": [
      "['P', 'y', 't', 'h', 'o', 'n', ' ', 'C', 'o', 'u', 'r', 's', 'e', ':', ' ', 'P', 'y', 't', 'h', 'o', 'n', ' ', 'P', 'r', 'o', 'g', 'r', 'a', 'm', 'm', 'i', 'n', 'g', ' ', 'f', 'o', 'r', ' ', 'B', 'e', 'g', 'i', 'n', 'n', 'e', 'r', 's', ' ', '|', ' ', ' ', 'H', 'o', 'u', 'r', 's']\n"
     ]
    }
   ],
   "source": [
    "\"\"\"\n",
    "\n",
    "    [] - All characters written between square brackets\n",
    "\n",
    "         [abc] => a      : 1 match\n",
    "                  ac     : 2 match \n",
    "                  Python : No matches\n",
    "\n",
    "         [a-e]  => [abcde]\n",
    "         [1-5]  => [12345]\n",
    "         [0-39] => [01239]   \n",
    "\n",
    "         [^abc] => characters except abc\n",
    "         [^0-9] => non-digit characters\n",
    "\n",
    "\"\"\"\n",
    "\n",
    "result = re.findall(\"[abc]\", str)\n",
    "result = re.findall(\"[a-e]\", str)\n",
    "result = re.findall(\"[a-z]\", str)\n",
    "result = re.findall(\"[0-5]\", str)\n",
    "result = re.findall(\"[^python]\", str)\n",
    "result = re.findall(\"[^0-9]\", str)\n",
    "\n",
    "print(result)"
   ]
  },
  {
   "cell_type": "code",
   "execution_count": 19,
   "metadata": {},
   "outputs": [
    {
     "name": "stdout",
     "output_type": "stream",
     "text": [
      "['Python', 'Python']\n"
     ]
    }
   ],
   "source": [
    "\"\"\"\n",
    "    . - Any single character except newline character\n",
    "\n",
    "        .. => a    : No match\n",
    "              ab   : 1 match\n",
    "              abc  : 1 match\n",
    "              abcd : 2 matches\n",
    "\n",
    "    \n",
    "\"\"\"\n",
    "\n",
    "result = re.findall(\".\", str) # It finds any character in the string\n",
    "result = re.findall(\"..\", str) # It finds any two characters in the string\n",
    "result = re.findall(\"Py..on\", str) \n",
    "\n",
    "print(result)"
   ]
  },
  {
   "cell_type": "code",
   "execution_count": 20,
   "metadata": {},
   "outputs": [
    {
     "name": "stdout",
     "output_type": "stream",
     "text": [
      "['P']\n"
     ]
    }
   ],
   "source": [
    "\"\"\"\n",
    "    ^ - Does the specified string start with characters? \n",
    "\n",
    "    ^a => a:    1 match\n",
    "          abc:  1 match\n",
    "          bac:  No match\n",
    "\n",
    "\"\"\"\n",
    "\n",
    "result = re.findall(\"^P\", str)\n",
    "\n",
    "print(result)"
   ]
  },
  {
   "cell_type": "code",
   "execution_count": 22,
   "metadata": {},
   "outputs": [
    {
     "name": "stdout",
     "output_type": "stream",
     "text": [
      "['Hours']\n"
     ]
    }
   ],
   "source": [
    "\"\"\"\n",
    "    $ - Does it end with the specified character?\n",
    "\n",
    "    a$ => a      : 1 match\n",
    "          lamba  : 1 match\n",
    "          Python : No match \n",
    "\n",
    "\"\"\"\n",
    "\n",
    "result = re.findall(\"s$\", str)\n",
    "result = re.findall(\"Hours$\", str)\n",
    "\n",
    "print(result)"
   ]
  },
  {
   "cell_type": "code",
   "execution_count": null,
   "metadata": {},
   "outputs": [],
   "source": [
    "\"\"\"\n",
    "     * - zero or more\n",
    "\n",
    "         ma*n => mn     : 1 match\n",
    "                 man    : 1 match\n",
    "                 maaan  : 1 match\n",
    "                 main   : No match ('n' is not after 'a')\n",
    "\"\"\"\n",
    "\n",
    "# It finds the words that start with 'ma' and end with 'n'\n",
    "\n",
    "\"\"\"\n",
    "    ? - It checks whether a character\n",
    "\n",
    "        ma+n => mn     : No match\n",
    "                man    : 1 match\n",
    "                maaan  : 1 match\n",
    "                main   : No match (a' nın arkasına n gelmiyor.) \n",
    "\"\"\"\n",
    "\n",
    "# It finds the words that start with 'ma' and end with 'n' but 'a' is optional"
   ]
  },
  {
   "cell_type": "code",
   "execution_count": 25,
   "metadata": {},
   "outputs": [
    {
     "name": "stdout",
     "output_type": "stream",
     "text": [
      "['40']\n"
     ]
    }
   ],
   "source": [
    "\"\"\"\n",
    "    {} - It checks the number of characters.\n",
    "\n",
    "        al{2}   => 'l' character must be repeated twice after 'a' character.\n",
    "        al{2,3} => a karakterinin arkasına l karakteri en az 2 en fazla 3 kez tekrarlamalı.\n",
    "        [0-9]{2,4} => en az 2 en çok 4 basamaklı sayılar.\n",
    "\"\"\"\n",
    "\n",
    "result = re.findall(\"m{2}\", str)\n",
    "result = re.findall(\"[0-9]{2}\", str)\n",
    "\n",
    "print(result)"
   ]
  },
  {
   "cell_type": "code",
   "execution_count": null,
   "metadata": {},
   "outputs": [],
   "source": [
    "\"\"\"\n",
    "    | - one of the alternative options must be true.\n",
    "\n",
    "        a|b => a ya da b\n",
    "\n",
    "            cde =>    no match\n",
    "            ade =>    1 match\n",
    "            acdbea => 3 match \n",
    "\"\"\""
   ]
  },
  {
   "cell_type": "code",
   "execution_count": null,
   "metadata": {},
   "outputs": [],
   "source": [
    "\"\"\"\n",
    "    () - It is used to group.\n",
    "\n",
    "         (a|b|c)xz => a,b,c karakterlerinin arkasına xz gelmelidir.\n",
    "\"\"\""
   ]
  },
  {
   "cell_type": "code",
   "execution_count": null,
   "metadata": {},
   "outputs": [],
   "source": [
    "\"\"\"  \n",
    "     \\A - Returns a match if the specified characters are at the beginning of the string\n",
    "     \\b - Returns a match where the specified characters are at the beginning or at the end of a word\n",
    "     \\B - Returns a match where the specified characters are present, but NOT at the beginning (or at the end) of a word\n",
    "     \\d - Returns a match where the string contains digits (numbers from 0-9)\n",
    "     \\D - Returns a match where the string DOES NOT contain digits\n",
    "     \\s - Returns a match where the string contains a white space character\n",
    "     \\S - Returns a match where the string DOES NOT contain a white space character\n",
    "     \\w - Returns a match where the string contains any word characters (characters from a to Z, digits from 0-9, and the underscore _ character)\n",
    "     \\W - Returns a match where the string DOES NOT contain any word characters\n",
    "    \n",
    "\"\"\""
   ]
  }
 ],
 "metadata": {
  "kernelspec": {
   "display_name": "Python 3",
   "language": "python",
   "name": "python3"
  },
  "language_info": {
   "codemirror_mode": {
    "name": "ipython",
    "version": 3
   },
   "file_extension": ".py",
   "mimetype": "text/x-python",
   "name": "python",
   "nbconvert_exporter": "python",
   "pygments_lexer": "ipython3",
   "version": "3.12.0"
  }
 },
 "nbformat": 4,
 "nbformat_minor": 2
}
