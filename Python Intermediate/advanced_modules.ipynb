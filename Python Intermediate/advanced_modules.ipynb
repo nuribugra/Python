{
 "cells": [
  {
   "cell_type": "markdown",
   "metadata": {},
   "source": [
    "*Datetime Module*\n",
    "\n",
    "The datetime module in Python is an essential library for dealing with date and time information. It provides classes and functions to work with dates, times, and time intervals. With the datetime module, you can create, manipulate, and format dates and times, making it a fundamental tool for various applications, including handling timestamps, scheduling tasks, or managing time-related data."
   ]
  },
  {
   "cell_type": "code",
   "execution_count": 19,
   "metadata": {},
   "outputs": [
    {
     "name": "stdout",
     "output_type": "stream",
     "text": [
      "Tue Oct 17 19:31:19 2023\n"
     ]
    }
   ],
   "source": [
    "from datetime import datetime\n",
    "\n",
    "current_time = datetime.now() # you can use datetime.today() as well\n",
    "\n",
    "result = current_time.year\n",
    "result = current_time.month\n",
    "result = current_time.day\n",
    "result = current_time.hour\n",
    "result = current_time.minute\n",
    "result = current_time.second\n",
    "\n",
    "result = datetime.ctime(current_time)\n",
    "\n",
    "print(result)\n"
   ]
  },
  {
   "cell_type": "code",
   "execution_count": 20,
   "metadata": {},
   "outputs": [
    {
     "name": "stdout",
     "output_type": "stream",
     "text": [
      "2023 October Tuesday\n"
     ]
    }
   ],
   "source": [
    "result = datetime.strftime(current_time, '%Y') # Y -> year\n",
    "result = datetime.strftime(current_time, '%X') # X -> time\n",
    "result = datetime.strftime(current_time, '%d') # d -> day\n",
    "result = datetime.strftime(current_time, '%A') # A -> day name\n",
    "result = datetime.strftime(current_time, '%B') # B -> month name\n",
    "result = datetime.strftime(current_time, '%Y %B %A')\n",
    "\n",
    "print(result)"
   ]
  },
  {
   "cell_type": "code",
   "execution_count": 21,
   "metadata": {},
   "outputs": [
    {
     "name": "stdout",
     "output_type": "stream",
     "text": [
      "1970-01-01 03:00:00\n"
     ]
    }
   ],
   "source": [
    "t = '17 October 2023 hour 19:23:45'\n",
    "result = datetime.strptime(t, \"%d %B %Y hour %H:%M:%S\") # strptime -> string parse time\n",
    "\n",
    "birthday = datetime(2003, 5, 14, 10, 30)\n",
    "\n",
    "result = datetime.timestamp(birthday) # timestamp -> seconds\n",
    "result = datetime.fromtimestamp(result) # fromtimestamp -> timestamp to datetime\n",
    "result = datetime.fromtimestamp(0) # 0 -> 1970-01-01 03:00:00 This date is the first date of the computer. A kind of computer birthday.\n",
    "\n",
    "print(result)"
   ]
  },
  {
   "cell_type": "code",
   "execution_count": 26,
   "metadata": {},
   "outputs": [
    {
     "name": "stdout",
     "output_type": "stream",
     "text": [
      "421563\n"
     ]
    }
   ],
   "source": [
    "result = current_time - birthday # timedelta -> difference between two dates\n",
    "\n",
    "# result = result.days\n",
    "# result = result.seconds\n",
    "result = result.microseconds\n",
    "\n",
    "print(result)"
   ]
  },
  {
   "cell_type": "code",
   "execution_count": 31,
   "metadata": {},
   "outputs": [
    {
     "name": "stdout",
     "output_type": "stream",
     "text": [
      "2023-10-17 19:31:19.421563\n",
      "2023-10-07 19:31:19.421563\n"
     ]
    }
   ],
   "source": [
    "from datetime import timedelta\n",
    "# Future time calculation\n",
    "\n",
    "print(current_time)\n",
    "\n",
    "# result = current_time + timedelta(days=10)\n",
    "# result = current_time + timedelta(days=730, minutes=10)\n",
    "\n",
    "result = current_time - timedelta(days=10)\n",
    "\n",
    "print(result)"
   ]
  },
  {
   "cell_type": "markdown",
   "metadata": {},
   "source": [
    "*Os Module*\n",
    "\n",
    "The `os` module in Python is a powerful tool for interacting with the operating system. It provides functions to perform various tasks related to file and directory manipulation, process management, and system information retrieval. With the `os` module, you can create, delete, and manipulate directories and files, get information about the current working directory, list the contents of a directory, and execute system commands.\n",
    "\n",
    "This module is particularly useful for tasks that require platform-independent file operations, making it an essential part of many Python applications. Whether you need to manage files, work with directories, or retrieve information about the system, the `os` module provides a versatile set of functions to help you accomplish these tasks. It's a valuable resource for any Python programmer working on tasks that involve system-level interactions."
   ]
  },
  {
   "cell_type": "code",
   "execution_count": 22,
   "metadata": {},
   "outputs": [
    {
     "name": "stdout",
     "output_type": "stream",
     "text": [
      "nt\n",
      "c:\\Users\\Nuri Buğra Demir\\Desktop\\Python Studies\n"
     ]
    }
   ],
   "source": [
    "import os\n",
    "\n",
    "# print(dir(os)) It shows all the functions in the os module.\n",
    "\n",
    "result = os.name\n",
    "print(result) # nt -> windows\n",
    "\n",
    "print(os.getcwd()) # getcwd -> get current working directory\n"
   ]
  },
  {
   "cell_type": "code",
   "execution_count": 23,
   "metadata": {},
   "outputs": [
    {
     "name": "stdout",
     "output_type": "stream",
     "text": [
      "c:\\Users\\Nuri Buğra Demir\\Desktop\\Python Studies\\Python Intermediate\n"
     ]
    }
   ],
   "source": [
    "os.chdir(r'c:\\Users\\Nuri Buğra Demir\\Desktop\\Python Studies\\Python Intermediate') # chdir -> change directory\n",
    "print(os.getcwd())\n",
    "\n",
    "os.mkdir(\"newfolder\") # mkdir -> make directory\n",
    "os.makedirs(\"newfolder/newestfolder\") # makedirs -> make directories You can specify the directory you want to create\n",
    "os.rename(\"newfolder\", \"newfolder2\") # rename -> rename directory\n",
    "os.rmdir(\"newfolder2\") # rmdir -> remove directory\n",
    "os.removedirs(\"newfolder/newestfolder\") # removedirs -> remove directories\n"
   ]
  },
  {
   "cell_type": "code",
   "execution_count": 24,
   "metadata": {},
   "outputs": [
    {
     "name": "stdout",
     "output_type": "stream",
     "text": [
      "['advanced_function_usage.ipynb', 'advanced_modules.ipynb', 'file_handling.ipynb', 'iterators-generators.ipynb', 'newfile.txt', 'newfile2.txt', 'newfolder']\n"
     ]
    }
   ],
   "source": [
    "print(os.listdir()) # It shows all the files and folders in the current directory."
   ]
  },
  {
   "cell_type": "code",
   "execution_count": 34,
   "metadata": {},
   "outputs": [
    {
     "name": "stdout",
     "output_type": "stream",
     "text": [
      "2023-10-26 12:28:10.528017\n"
     ]
    }
   ],
   "source": [
    "import datetime\n",
    "\n",
    "result = os.stat(\"advanced_modules.ipynb\") # stat -> statistics\n",
    "# result = result.st_size/1024 # st_size -> size of the file (It is in bytes. We divided it by 1024 to convert it to kilobytes.)\n",
    "\n",
    "# st_ctime -> creation time\n",
    "# st_atime -> access time \n",
    "# st_mtime -> modification time\n",
    "time = datetime.datetime.fromtimestamp(result.st_ctime) # fromtimestamp -> timestamp to datetime\n",
    "time = datetime.datetime.fromtimestamp(result.st_atime) # fromtimestamp -> timestamp to datetime\n",
    "time = datetime.datetime.fromtimestamp(result.st_mtime) # fromtimestamp -> timestamp to datetime\n",
    "\n",
    "# print(result)\n",
    "print(time)"
   ]
  },
  {
   "cell_type": "code",
   "execution_count": 35,
   "metadata": {},
   "outputs": [
    {
     "data": {
      "text/plain": [
       "0"
      ]
     },
     "execution_count": 35,
     "metadata": {},
     "output_type": "execute_result"
    }
   ],
   "source": [
    "# Running the operating system commands with python\n",
    "\n",
    "os.system(\"notepad.exe\") # system -> It runs the command you want on the operating system."
   ]
  },
  {
   "cell_type": "code",
   "execution_count": 41,
   "metadata": {},
   "outputs": [
    {
     "name": "stdout",
     "output_type": "stream",
     "text": [
      "True\n"
     ]
    }
   ],
   "source": [
    "# Path\n",
    "\n",
    "directory = os.path.abspath(\"advanced_modules.ipynb\") # abspath -> absolute path\n",
    "directory = os.path.dirname(\"C:/Users/Nuri Buğra Demir/Desktop/Python Studies/Python Intermediate/advanced_modules.ipynb\") # dirname -> directory name\n",
    "\n",
    "result = os.path.exists(\"advanced_modules.ipynb\") # exists -> It checks whether the file exists or not.\n",
    "result = os.path.isdir(\"advanced_modules.ipynb\") # isdir -> It checks whether the file is a directory or not.\n",
    "result = os.path.isfile(\"advanced_modules.ipynb\") # isfile -> It checks whether the file is a file or not.\n",
    "# os.path.join() -> It combines the paths you want.\n",
    "# os.path.split() -> It splits the path you want.\n",
    "# os.path.splitext() -> It splits the extension of the file you want.\n",
    "\n",
    "print(result)\n",
    "# print(directory)"
   ]
  }
 ],
 "metadata": {
  "kernelspec": {
   "display_name": "Python 3",
   "language": "python",
   "name": "python3"
  },
  "language_info": {
   "codemirror_mode": {
    "name": "ipython",
    "version": 3
   },
   "file_extension": ".py",
   "mimetype": "text/x-python",
   "name": "python",
   "nbconvert_exporter": "python",
   "pygments_lexer": "ipython3",
   "version": "3.11.4"
  }
 },
 "nbformat": 4,
 "nbformat_minor": 2
}
