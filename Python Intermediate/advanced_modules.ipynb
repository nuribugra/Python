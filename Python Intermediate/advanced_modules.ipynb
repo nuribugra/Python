{
 "cells": [
  {
   "cell_type": "markdown",
   "metadata": {},
   "source": [
    "*Datetime Module*\n",
    "\n",
    "The datetime module in Python is an essential library for dealing with date and time information. It provides classes and functions to work with dates, times, and time intervals. With the datetime module, you can create, manipulate, and format dates and times, making it a fundamental tool for various applications, including handling timestamps, scheduling tasks, or managing time-related data."
   ]
  },
  {
   "cell_type": "code",
   "execution_count": 19,
   "metadata": {},
   "outputs": [
    {
     "name": "stdout",
     "output_type": "stream",
     "text": [
      "Tue Oct 17 19:31:19 2023\n"
     ]
    }
   ],
   "source": [
    "from datetime import datetime\n",
    "\n",
    "current_time = datetime.now() # you can use datetime.today() as well\n",
    "\n",
    "result = current_time.year\n",
    "result = current_time.month\n",
    "result = current_time.day\n",
    "result = current_time.hour\n",
    "result = current_time.minute\n",
    "result = current_time.second\n",
    "\n",
    "result = datetime.ctime(current_time)\n",
    "\n",
    "print(result)\n"
   ]
  },
  {
   "cell_type": "code",
   "execution_count": 20,
   "metadata": {},
   "outputs": [
    {
     "name": "stdout",
     "output_type": "stream",
     "text": [
      "2023 October Tuesday\n"
     ]
    }
   ],
   "source": [
    "result = datetime.strftime(current_time, '%Y') # Y -> year\n",
    "result = datetime.strftime(current_time, '%X') # X -> time\n",
    "result = datetime.strftime(current_time, '%d') # d -> day\n",
    "result = datetime.strftime(current_time, '%A') # A -> day name\n",
    "result = datetime.strftime(current_time, '%B') # B -> month name\n",
    "result = datetime.strftime(current_time, '%Y %B %A')\n",
    "\n",
    "print(result)"
   ]
  },
  {
   "cell_type": "code",
   "execution_count": 21,
   "metadata": {},
   "outputs": [
    {
     "name": "stdout",
     "output_type": "stream",
     "text": [
      "1970-01-01 03:00:00\n"
     ]
    }
   ],
   "source": [
    "t = '17 October 2023 hour 19:23:45'\n",
    "result = datetime.strptime(t, \"%d %B %Y hour %H:%M:%S\") # strptime -> string parse time\n",
    "\n",
    "birthday = datetime(2003, 5, 14, 10, 30)\n",
    "\n",
    "result = datetime.timestamp(birthday) # timestamp -> seconds\n",
    "result = datetime.fromtimestamp(result) # fromtimestamp -> timestamp to datetime\n",
    "result = datetime.fromtimestamp(0) # 0 -> 1970-01-01 03:00:00 This date is the first date of the computer. A kind of computer birthday.\n",
    "\n",
    "print(result)"
   ]
  },
  {
   "cell_type": "code",
   "execution_count": 26,
   "metadata": {},
   "outputs": [
    {
     "name": "stdout",
     "output_type": "stream",
     "text": [
      "421563\n"
     ]
    }
   ],
   "source": [
    "result = current_time - birthday # timedelta -> difference between two dates\n",
    "\n",
    "# result = result.days\n",
    "# result = result.seconds\n",
    "result = result.microseconds\n",
    "\n",
    "print(result)"
   ]
  },
  {
   "cell_type": "code",
   "execution_count": 31,
   "metadata": {},
   "outputs": [
    {
     "name": "stdout",
     "output_type": "stream",
     "text": [
      "2023-10-17 19:31:19.421563\n",
      "2023-10-07 19:31:19.421563\n"
     ]
    }
   ],
   "source": [
    "from datetime import timedelta\n",
    "# Future time calculation\n",
    "\n",
    "print(current_time)\n",
    "\n",
    "# result = current_time + timedelta(days=10)\n",
    "# result = current_time + timedelta(days=730, minutes=10)\n",
    "\n",
    "result = current_time - timedelta(days=10)\n",
    "\n",
    "print(result)"
   ]
  }
 ],
 "metadata": {
  "kernelspec": {
   "display_name": "Python 3",
   "language": "python",
   "name": "python3"
  },
  "language_info": {
   "codemirror_mode": {
    "name": "ipython",
    "version": 3
   },
   "file_extension": ".py",
   "mimetype": "text/x-python",
   "name": "python",
   "nbconvert_exporter": "python",
   "pygments_lexer": "ipython3",
   "version": "3.11.4"
  }
 },
 "nbformat": 4,
 "nbformat_minor": 2
}
