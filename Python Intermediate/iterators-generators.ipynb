{
 "cells": [
  {
   "cell_type": "markdown",
   "metadata": {},
   "source": [
    "*Iterators*\n",
    "\n",
    "Python iterators are essential components of the language's iterable objects. An iterator is a container object that can be iterated (looped) one element at a time. They provide a convenient way to access elements within a collection sequentially. In Python, common iterable objects like lists, tuples, strings, and dictionaries can be looped over using iterators.\n",
    "\n",
    "Python iterators are designed to work efficiently with limited memory resources. Instead of loading the entire iterable object into memory, iterators load and process only one item at a time. This makes them especially useful when working with large datasets or infinite sequences.\n",
    "\n",
    "You can access elements from an iterator using a for loop, a while loop, or by utilizing built-in functions like next(). Understanding how iterators work is fundamental to efficiently traverse and manipulate data in Python."
   ]
  },
  {
   "cell_type": "code",
   "execution_count": 1,
   "metadata": {},
   "outputs": [
    {
     "name": "stdout",
     "output_type": "stream",
     "text": [
      "1\n",
      "2\n",
      "3\n",
      "4\n",
      "5\n"
     ]
    }
   ],
   "source": [
    "list = [1, 2, 3, 4, 5]\n",
    "iterator = iter(list)\n",
    "\n",
    "while True:\n",
    "    try:\n",
    "        element = next(iterator)\n",
    "        print(element)\n",
    "    except StopIteration:\n",
    "        break   \n",
    "# These codes are background codes for a for loop.\n"
   ]
  },
  {
   "cell_type": "code",
   "execution_count": 2,
   "metadata": {},
   "outputs": [
    {
     "name": "stdout",
     "output_type": "stream",
     "text": [
      "10\n",
      "11\n",
      "12\n",
      "13\n",
      "14\n",
      "15\n",
      "16\n",
      "17\n",
      "18\n",
      "19\n",
      "20\n"
     ]
    }
   ],
   "source": [
    "class MyNumbers:\n",
    "\n",
    "    def __init__(self, start, stop):\n",
    "        self.start = start\n",
    "        self.stop = stop\n",
    "\n",
    "    def __iter__(self):\n",
    "        return self\n",
    "    \n",
    "    def __next__(self):\n",
    "        if self.start <= self.stop:\n",
    "            x = self.start\n",
    "            self.start += 1\n",
    "            return x\n",
    "        else:\n",
    "            raise StopIteration\n",
    "    \n",
    "list = MyNumbers(10, 20)\n",
    "\n",
    "for x in list:\n",
    "    print(x)"
   ]
  },
  {
   "cell_type": "markdown",
   "metadata": {},
   "source": [
    "*Generators*\n",
    "\n",
    "Python generators are a unique feature that sets Python apart from many other programming languages. They provide an elegant and memory-efficient way to create iterators, making it easy to work with large sequences of data or even infinite sequences.\n",
    "\n",
    "In Python, generators are created using functions with the `yield` keyword. When a function contains `yield`, it becomes a generator function. When the generator function is called, it doesn't execute the entire function but returns a generator object instead. This object can be used to iterate over the values that the generator function produces, one at a time.\n",
    "\n",
    "One of the primary benefits of generators is their memory efficiency. Since they generate values on-the-fly, they don't need to store the entire sequence in memory. This makes generators especially useful when dealing with large data sets, like log files, sensor data, or streaming information from the internet.\n",
    "\n",
    "In addition to conserving memory, generators enhance code readability and reusability. They allow you to write more elegant and compact code for tasks that involve iterating over data. Whether you're working with a vast dataset or just trying to simplify your code, Python generators are a powerful tool to have in your programming arsenal."
   ]
  },
  {
   "cell_type": "code",
   "execution_count": 3,
   "metadata": {},
   "outputs": [
    {
     "name": "stdout",
     "output_type": "stream",
     "text": [
      "0\n",
      "1\n",
      "8\n",
      "27\n",
      "64\n"
     ]
    }
   ],
   "source": [
    "def cube():\n",
    "    for i in range(5):\n",
    "        yield i**3\n",
    "\n",
    "for i in cube():\n",
    "    print(i)\n",
    "# We can do this with list comprehensions. "
   ]
  },
  {
   "cell_type": "code",
   "execution_count": 8,
   "metadata": {},
   "outputs": [
    {
     "name": "stdout",
     "output_type": "stream",
     "text": [
      "[0, 1, 8, 27, 64]\n",
      "<generator object <genexpr> at 0x000002D4595632A0>\n",
      "0\n",
      "1\n",
      "8\n",
      "27\n",
      "64\n"
     ]
    },
    {
     "ename": "StopIteration",
     "evalue": "",
     "output_type": "error",
     "traceback": [
      "\u001b[1;31m---------------------------------------------------------------------------\u001b[0m",
      "\u001b[1;31mStopIteration\u001b[0m                             Traceback (most recent call last)",
      "\u001b[1;32mc:\\Users\\Nuri Buğra Demir\\Desktop\\Python Studies\\Python Intermediate\\iterators-generators.ipynb Cell 6\u001b[0m line \u001b[0;36m1\n\u001b[0;32m     <a href='vscode-notebook-cell:/c%3A/Users/Nuri%20Bu%C4%9Fra%20Demir/Desktop/Python%20Studies/Python%20Intermediate/iterators-generators.ipynb#W6sZmlsZQ%3D%3D?line=9'>10</a>\u001b[0m \u001b[39mprint\u001b[39m(\u001b[39mnext\u001b[39m(generator_list))\n\u001b[0;32m     <a href='vscode-notebook-cell:/c%3A/Users/Nuri%20Bu%C4%9Fra%20Demir/Desktop/Python%20Studies/Python%20Intermediate/iterators-generators.ipynb#W6sZmlsZQ%3D%3D?line=10'>11</a>\u001b[0m \u001b[39mprint\u001b[39m(\u001b[39mnext\u001b[39m(generator_list))\n\u001b[1;32m---> <a href='vscode-notebook-cell:/c%3A/Users/Nuri%20Bu%C4%9Fra%20Demir/Desktop/Python%20Studies/Python%20Intermediate/iterators-generators.ipynb#W6sZmlsZQ%3D%3D?line=11'>12</a>\u001b[0m \u001b[39mprint\u001b[39m(\u001b[39mnext\u001b[39;49m(generator_list))\n",
      "\u001b[1;31mStopIteration\u001b[0m: "
     ]
    }
   ],
   "source": [
    "list = [i**3 for i in range(5)]\n",
    "print(list)\n",
    "\n",
    "generator_list = (i**3 for i in range(5))\n",
    "print(generator_list) \n",
    "\n",
    "print(next(generator_list))\n",
    "print(next(generator_list))\n",
    "print(next(generator_list))\n",
    "print(next(generator_list))\n",
    "print(next(generator_list))\n",
    "print(next(generator_list)) # StopIteration Error. Because, generator_list has 5 elements."
   ]
  }
 ],
 "metadata": {
  "kernelspec": {
   "display_name": "Python 3",
   "language": "python",
   "name": "python3"
  },
  "language_info": {
   "codemirror_mode": {
    "name": "ipython",
    "version": 3
   },
   "file_extension": ".py",
   "mimetype": "text/x-python",
   "name": "python",
   "nbconvert_exporter": "python",
   "pygments_lexer": "ipython3",
   "version": "3.11.4"
  }
 },
 "nbformat": 4,
 "nbformat_minor": 2
}
