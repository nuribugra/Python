{
 "cells": [
  {
   "cell_type": "markdown",
   "metadata": {},
   "source": [
    "Logical operators in Python are used to combine and evaluate expressions. There are three primary logical operators: `and`, `or`, and `not`.\n",
    "\n",
    "- `and` operator: If both expressions are true, the result is true. `Expression1 and Expression2` yield a true result only when both `Expression1` and `Expression2` are true.\n",
    "\n",
    "- `or` operator: If at least one of the expressions is true, the result is true. `Expression1 or Expression2` yields a true result if either `Expression1` or `Expression2`, or both, are true.\n",
    "\n",
    "- `not` operator: It negates the expression. `not Expression` returns true if `Expression` is false and false if `Expression` is true."
   ]
  },
  {
   "cell_type": "code",
   "execution_count": 5,
   "metadata": {},
   "outputs": [
    {
     "name": "stdout",
     "output_type": "stream",
     "text": [
      "x < y: True\n",
      "x > y: False\n",
      "x == y: False\n",
      "x != y: True\n",
      "********************\n",
      "(x < y) and (x != y): True\n",
      "(x > y) or (x == y): False\n",
      "not (x < y): False\n"
     ]
    }
   ],
   "source": [
    "# Let's define two numbers\n",
    "x = 7\n",
    "y = 12\n",
    "\n",
    "# Let's make comparisons using comparison operators and print the results\n",
    "print(\"x < y:\", x < y)       # True (Is x less than y?)\n",
    "print(\"x > y:\", x > y)       # False (Is x greater than y?)\n",
    "print(\"x == y:\", x == y)     # False (Is x equal to y?)\n",
    "print(\"x != y:\", x != y)     # True (Is x not equal to y?)\n",
    "\n",
    "print(\"*\" * 20)\n",
    "\n",
    "# Let's create different scenarios using logical operators and print the results\n",
    "print(\"(x < y) and (x != y):\", (x < y) and (x != y))   # True (Is x less than y and x not equal to y?)\n",
    "print(\"(x > y) or (x == y):\", (x > y) or (x == y))     # False (Is x greater than y or x equal to y?)\n",
    "print(\"not (x < y):\", not (x < y))                     # False (Is x not less than y?)\n"
   ]
  }
 ],
 "metadata": {
  "kernelspec": {
   "display_name": "Python 3",
   "language": "python",
   "name": "python3"
  },
  "language_info": {
   "codemirror_mode": {
    "name": "ipython",
    "version": 3
   },
   "file_extension": ".py",
   "mimetype": "text/x-python",
   "name": "python",
   "nbconvert_exporter": "python",
   "pygments_lexer": "ipython3",
   "version": "3.11.4"
  },
  "orig_nbformat": 4
 },
 "nbformat": 4,
 "nbformat_minor": 2
}
