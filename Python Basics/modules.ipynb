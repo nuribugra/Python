{
 "cells": [
  {
   "cell_type": "markdown",
   "metadata": {},
   "source": [
    "\n",
    "Modules in Python are a way to organize code into reusable, separate files. They help in making the code more organized and manageable. A module can contain functions, classes, or variables that can be imported and used in other Python scripts. These files with a \".py\" extension hold Python code and can be considered as libraries that expand the language's capabilities. Modules are a fundamental concept in Python programming that allows code to be efficiently reused and shared across different projects."
   ]
  },
  {
   "cell_type": "markdown",
   "metadata": {},
   "source": [
    "*Math Module*"
   ]
  },
  {
   "cell_type": "code",
   "execution_count": 5,
   "metadata": {},
   "outputs": [
    {
     "name": "stdout",
     "output_type": "stream",
     "text": [
      "120\n"
     ]
    }
   ],
   "source": [
    "# Method 1 to import module\n",
    "\n",
    "# import math\n",
    "\n",
    "# import math as matematik\n",
    "\n",
    "# value = math.sqrt(49)\n",
    "# value = math.factorial(5)\n",
    "\n",
    "# print(value)\n",
    "\n",
    "# Method 2 to import module\n",
    "\n",
    "# from math import * # import all functions from math module\n",
    "\n",
    "from math import sqrt, factorial # import only sqrt and factorial functions from math module\n",
    "\n",
    "value = sqrt(49)\n",
    "value = factorial(5)\n",
    "\n",
    "print(value)"
   ]
  },
  {
   "cell_type": "markdown",
   "metadata": {},
   "source": [
    "*Random Module*"
   ]
  },
  {
   "cell_type": "code",
   "execution_count": 110,
   "metadata": {},
   "outputs": [
    {
     "name": "stdout",
     "output_type": "stream",
     "text": [
      "['James', 'Zachary']\n"
     ]
    }
   ],
   "source": [
    "import random\n",
    "\n",
    "# result = help(random)\n",
    "\n",
    "result = random.random()  # 0.0 - 1.0\n",
    "result = random.random() * 100  \n",
    "result = int(random.uniform(1,10))\n",
    "result = random.randint(1,100)\n",
    "\n",
    "greeting = \"Hello there\"\n",
    "names = [\"George\", \"John\", \"Thomas\", \"James\", \"Andrew\", \"Martin\", \"William\", \"Zachary\", \"Millard\", \"Franklin\"]\n",
    "\n",
    "# result = names[random.randint(0, len(names)-1)] # random name from list\n",
    "\n",
    "result = random.choice(names) # random name from list\n",
    "result = random.choice(greeting) # random character from string\n",
    "\n",
    "my_list = list(range(10))\n",
    "random.shuffle(my_list) # shuffle list\n",
    "\n",
    "result = my_list\n",
    "\n",
    "my_list = range(100)\n",
    "result = random.sample(my_list, 3) # get 3 random numbers from list\n",
    "result = random.sample(names, 2) # get 2 random names from list\n",
    "\n",
    "print(result)\n",
    "\n"
   ]
  },
  {
   "cell_type": "markdown",
   "metadata": {},
   "source": [
    "*Custom Modules*\n",
    "\n",
    "Creating your own modules in Python is a powerful way to structure your code and promote reusability. A module is a file containing Python code that can define functions, classes, and variables. When you create your own modules, you encapsulate specific functionality in a single file, making it easier to manage and maintain your code.\n",
    "\n",
    "To create a custom module, you can simply write your Python code in a `.py` file. This file can contain various elements like functions and classes. Once you've created your module, you can import it in other Python scripts to access its functionality, extending the capabilities of your programs.\n",
    "\n",
    "Custom modules are especially useful for large and complex projects, allowing you to break down your code into manageable components. By creating organized and reusable modules, you'll improve code readability, maintainability, and collaboration with others in your development team."
   ]
  },
  {
   "cell_type": "code",
   "execution_count": 119,
   "metadata": {},
   "outputs": [
    {
     "name": "stdout",
     "output_type": "stream",
     "text": [
      "Help on function func in module my_module:\n",
      "\n",
      "func(x)\n",
      "\n",
      "X is 7\n",
      "I am speaking\n",
      "None\n"
     ]
    }
   ],
   "source": [
    "import my_module\n",
    "\n",
    "# result = help(my_module)\n",
    "result = help(my_module.func)\n",
    "\n",
    "result = my_module.number\n",
    "result = my_module.numbers\n",
    "result = my_module.person[\"name\"]\n",
    "result = my_module.func(7)\n",
    "\n",
    "p = my_module.Person()\n",
    "p.speak()\n",
    "\n",
    "print(result)"
   ]
  }
 ],
 "metadata": {
  "kernelspec": {
   "display_name": "Python 3",
   "language": "python",
   "name": "python3"
  },
  "language_info": {
   "codemirror_mode": {
    "name": "ipython",
    "version": 3
   },
   "file_extension": ".py",
   "mimetype": "text/x-python",
   "name": "python",
   "nbconvert_exporter": "python",
   "pygments_lexer": "ipython3",
   "version": "3.11.4"
  }
 },
 "nbformat": 4,
 "nbformat_minor": 2
}
