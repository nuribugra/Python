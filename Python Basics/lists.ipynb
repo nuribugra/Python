{
 "cells": [
  {
   "cell_type": "markdown",
   "metadata": {},
   "source": [
    "In Python, a list is a versatile data structure used to store collections of items. Lists are ordered, mutable (modifiable), and can contain elements of different data types, such as integers, strings, or even other lists. Lists are defined by enclosing a comma-separated sequence of items in square brackets `[ ]`."
   ]
  },
  {
   "cell_type": "code",
   "execution_count": 2,
   "metadata": {},
   "outputs": [
    {
     "name": "stdout",
     "output_type": "stream",
     "text": [
      "George\n",
      "Claire\n",
      "Angelina\n",
      "Arthur\n"
     ]
    }
   ],
   "source": [
    "names = [\"George\", \"Claire\", \"Angelina\", \"Arthur\"]\n",
    "\n",
    "print(names[0])\n",
    "print(names[1])\n",
    "print(names[2])\n",
    "print(names[3])"
   ]
  },
  {
   "cell_type": "code",
   "execution_count": 5,
   "metadata": {},
   "outputs": [
    {
     "name": "stdout",
     "output_type": "stream",
     "text": [
      "['George', 'Claire', 'Angelina', 'Arthur', 'Black', 'Anderson', 'Smith', 'Harris']\n",
      "['George', 'Claire', 'Angelina', 'Arthur']\n",
      "***************\n",
      "['Angelina', 'Arthur', 'Black', 'Anderson']\n"
     ]
    }
   ],
   "source": [
    "lastNames = [\"Black\", \"Anderson\", \"Smith\", \"Harris\"]\n",
    "\n",
    "totalArray = names + lastNames\n",
    "\n",
    "print(totalArray)\n",
    "print(totalArray[0:4])\n",
    "\n",
    "print(\"***************\")\n",
    "\n",
    "spouse1 = totalArray[2:6]\n",
    "\n",
    "print(spouse1)"
   ]
  }
 ],
 "metadata": {
  "kernelspec": {
   "display_name": "Python 3",
   "language": "python",
   "name": "python3"
  },
  "language_info": {
   "codemirror_mode": {
    "name": "ipython",
    "version": 3
   },
   "file_extension": ".py",
   "mimetype": "text/x-python",
   "name": "python",
   "nbconvert_exporter": "python",
   "pygments_lexer": "ipython3",
   "version": "3.11.4"
  },
  "orig_nbformat": 4
 },
 "nbformat": 4,
 "nbformat_minor": 2
}
