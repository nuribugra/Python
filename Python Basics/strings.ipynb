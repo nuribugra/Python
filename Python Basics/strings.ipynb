{
 "cells": [
  {
   "cell_type": "markdown",
   "metadata": {},
   "source": [
    "\n",
    "It's important to understand that every string expression is essentially a sequence, or an array, of individual characters. Each character in the string has a specific position called an index, which helps identify and access it within the string. Starting from index \"0(zero)\" for the first character, you can use these indices to retrieve or manipulate individual characters within the string. This indexing concept enables efficient manipulation and extraction of data from strings in Python, making it a fundamental skill for working with text-based information."
   ]
  },
  {
   "cell_type": "code",
   "execution_count": 3,
   "metadata": {},
   "outputs": [
    {
     "name": "stdout",
     "output_type": "stream",
     "text": [
      "T\n",
      "h\n",
      "e\n",
      "r\n",
      "e\n",
      " \n",
      "i\n",
      "s\n",
      " \n",
      "a\n",
      " \n",
      "t\n",
      "e\n",
      "x\n",
      "t\n"
     ]
    }
   ],
   "source": [
    "text = \"There is a text that will manipulate by Python\"\n",
    "\n",
    "print(text[0])\n",
    "print(text[1])\n",
    "print(text[2])\n",
    "print(text[3])  \n",
    "print(text[4])  \n",
    "print(text[5])    \n",
    "print(text[6])  \n",
    "print(text[7])  \n",
    "print(text[8])    \n",
    "print(text[9])  \n",
    "print(text[10])   \n",
    "print(text[11]) \n",
    "print(text[12]) \n",
    "print(text[13]) \n",
    "print(text[14]) \n"
   ]
  },
  {
   "cell_type": "markdown",
   "metadata": {},
   "source": [
    "In addition, we can use negative integers as a index number."
   ]
  },
  {
   "cell_type": "code",
   "execution_count": 4,
   "metadata": {},
   "outputs": [
    {
     "name": "stdout",
     "output_type": "stream",
     "text": [
      "P\n",
      "y\n",
      "t\n",
      "h\n",
      "o\n",
      "n\n"
     ]
    }
   ],
   "source": [
    "print(text[-6])\n",
    "print(text[-5])\n",
    "print(text[-4])\n",
    "print(text[-3])\n",
    "print(text[-2])\n",
    "print(text[-1])"
   ]
  },
  {
   "cell_type": "markdown",
   "metadata": {},
   "source": [
    "In Python, the `len()` function is used to quickly find out the length or the number of elements in a collection, such as a string, list, or tuple. It provides a convenient way to get the size of these data structures without having to manually count the elements."
   ]
  },
  {
   "cell_type": "code",
   "execution_count": 7,
   "metadata": {},
   "outputs": [
    {
     "name": "stdout",
     "output_type": "stream",
     "text": [
      "46\n"
     ]
    }
   ],
   "source": [
    "print(len(text))"
   ]
  },
  {
   "cell_type": "markdown",
   "metadata": {},
   "source": [
    "*Text Slicing*\n",
    "\n",
    "In Python, you can use slicing to extract a specific portion of a string. The syntax for slicing is `text[start:end]`, where start is the index of the first character you want to include, and end is the index of the character just after the last one you want to include should be one greater. This way, you can conveniently extract substrings from a larger string. For example, `text[0:5]` would give you the characters from the start (index 0) up to, but not including, the character at index 5 in the string named text. [start, end)"
   ]
  },
  {
   "cell_type": "code",
   "execution_count": 19,
   "metadata": {},
   "outputs": [
    {
     "name": "stdout",
     "output_type": "stream",
     "text": [
      "There\n",
      "is\n",
      "a\n",
      "text\n",
      "that\n",
      "will\n",
      "manipulate\n",
      "by \n",
      "Python\n"
     ]
    }
   ],
   "source": [
    "print(text[0:5])   # There\n",
    "print(text[6:8])   # is\n",
    "print(text[9:10])  # a\n",
    "print(text[11:15]) # text\n",
    "print(text[16:20]) # that\n",
    "print(text[21:25]) # will\n",
    "print(text[26:36]) # manipulate\n",
    "print(text[37:40]) # by\n",
    "print(text[40:48]) # Python"
   ]
  },
  {
   "cell_type": "markdown",
   "metadata": {},
   "source": [
    "*String Fromatting*\n",
    "\n",
    "String formatting in Python is a powerful technique used to combine strings with variables or values. It allows you to create dynamic strings by inserting placeholders that will be replaced with actual data when the string is formatted. This helps in creating more readable and organized output. There are various ways to perform string formatting in Python, including the %-formatting, `str.format()` method, and the modern f-strings (formatted string literals). Each method offers flexibility and ease to manipulate strings by inserting variables and expressions into text. Using string formatting enhances the readability and maintainability of your code, making it a valuable skill for Python developers."
   ]
  },
  {
   "cell_type": "code",
   "execution_count": 20,
   "metadata": {},
   "outputs": [
    {
     "name": "stdout",
     "output_type": "stream",
     "text": [
      "My name is Buğra and I am 20 years old.\n"
     ]
    }
   ],
   "source": [
    "name = \"Buğra\"\n",
    "age = 20\n",
    "formatted_string = \"My name is {} and I am {} years old.\".format(name, age)\n",
    "print(formatted_string)"
   ]
  },
  {
   "cell_type": "code",
   "execution_count": 21,
   "metadata": {},
   "outputs": [
    {
     "name": "stdout",
     "output_type": "stream",
     "text": [
      "My name is Deniz and I am 6 years old.\n"
     ]
    }
   ],
   "source": [
    "name = \"Deniz\"\n",
    "age = 6\n",
    "formatted_string = \"My name is %s and I am %d years old.\" % (name, age)\n",
    "print(formatted_string)\n"
   ]
  },
  {
   "cell_type": "markdown",
   "metadata": {},
   "source": [
    "*F-strings*\n",
    "\n",
    "F-strings, or formatted string literals, are a concise and convenient way to embed expressions inside string literals in Python. Introduced in Python 3.6 and later versions, f-strings allow you to include variables and expressions directly within curly braces {} within a string. The f-strings are prefixed with the letter 'f' before the opening quote of the string, and any expressions within the curly braces are evaluated and replaced with their values. This feature provides a more readable and efficient way to create formatted strings compared to the traditional % formatting or the str.format() method. F-strings make it easier to combine variables and values with textual content, enhancing code readability and simplifying string formatting tasks."
   ]
  },
  {
   "cell_type": "code",
   "execution_count": 22,
   "metadata": {},
   "outputs": [
    {
     "name": "stdout",
     "output_type": "stream",
     "text": [
      "My name is Alice and I am 30 years old.\n"
     ]
    }
   ],
   "source": [
    "name = \"Alice\"\n",
    "age = 30\n",
    "formatted_string = f\"My name is {name} and I am {age} years old.\"\n",
    "print(formatted_string)"
   ]
  }
 ],
 "metadata": {
  "kernelspec": {
   "display_name": "Python 3",
   "language": "python",
   "name": "python3"
  },
  "language_info": {
   "codemirror_mode": {
    "name": "ipython",
    "version": 3
   },
   "file_extension": ".py",
   "mimetype": "text/x-python",
   "name": "python",
   "nbconvert_exporter": "python",
   "pygments_lexer": "ipython3",
   "version": "3.11.4"
  },
  "orig_nbformat": 4
 },
 "nbformat": 4,
 "nbformat_minor": 2
}
