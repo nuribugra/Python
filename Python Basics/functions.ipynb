{
 "cells": [
  {
   "cell_type": "markdown",
   "metadata": {},
   "source": [
    "In Python, functions are important tools for creating reusable blocks of code. They allow you to break down complex tasks into smaller, manageable parts, improving code organization and reusability. By using the `def` keyword, you can define your functions, specify input parameters, and return values. Understanding functions is essential in Python programming as they help you write more structured and efficient code."
   ]
  },
  {
   "cell_type": "code",
   "execution_count": 2,
   "metadata": {},
   "outputs": [
    {
     "name": "stdout",
     "output_type": "stream",
     "text": [
      "Hello, Buğra\n",
      "Hello, Deniz\n"
     ]
    }
   ],
   "source": [
    "def greeting(name = \"Guest\"):\n",
    "    print(f\"Hello, {name}\")\n",
    "\n",
    "greeting(\"Buğra\")\n",
    "greeting(\"Deniz\")"
   ]
  },
  {
   "cell_type": "markdown",
   "metadata": {},
   "source": [
    "*`return` keyword*\n",
    "\n",
    "In Python, the `return` keyword is used within functions to send a specific value back to the caller or the part of the code that invoked the function. This returned value can then be stored in a variable or used in various ways within the program. The `return` statement effectively ends the function's execution and transfers control back to the calling code. Functions can have multiple `return` statements, but once any of them is executed, the function exits. Properly using the `return` keyword is crucial for functions that perform calculations or transformations and need to pass results back to the main program."
   ]
  },
  {
   "cell_type": "code",
   "execution_count": 6,
   "metadata": {},
   "outputs": [
    {
     "name": "stdout",
     "output_type": "stream",
     "text": [
      "Buğra, you have 45 years left until retirement.\n",
      "Alex, you are already retired.\n"
     ]
    }
   ],
   "source": [
    "# Retirement Age Calculator\n",
    "from datetime import datetime\n",
    "\n",
    "currentYear = datetime.now().year\n",
    "\n",
    "def calculate_retirement(name, birthYear):\n",
    "    age = currentYear - birthYear\n",
    "    retirement = 65 - age\n",
    "\n",
    "    if retirement > 0:\n",
    "        print(f\"{name}, you have {retirement} years left until retirement.\")\n",
    "    else:\n",
    "        print(f\"{name}, you are already retired.\")\n",
    "\n",
    "calculate_retirement(\"Buğra\", 2003)\n",
    "calculate_retirement(\"Alex\", 1958)"
   ]
  },
  {
   "cell_type": "markdown",
   "metadata": {},
   "source": [
    "*Function Parameters*\n",
    "\n",
    "In Python, function parameters are essential components that enable you to customize a function's behavior. They act as placeholders for the values you provide when calling a function, allowing you to create flexible and reusable code. These parameters define what kind of data the function expects, and you can pass specific values, known as arguments, to fine-tune the function's actions. Python supports different types of parameters, such as positional, keyword, and default parameters, giving you the flexibility to adapt functions to various scenarios."
   ]
  },
  {
   "cell_type": "code",
   "execution_count": 3,
   "metadata": {},
   "outputs": [
    {
     "name": "stdout",
     "output_type": "stream",
     "text": [
      "name is Buğra\n",
      "age is 18\n",
      "city is İstanbul\n",
      "********************\n",
      "name is Alex\n",
      "age is 63\n",
      "city is New York\n",
      "phone is 1234567890\n"
     ]
    }
   ],
   "source": [
    "def displayUser(**args): # might be **params or **kwargs\n",
    "    for key, value in args.items():\n",
    "        print(f\"{key} is {value}\")\n",
    "\n",
    "displayUser(name = \"Buğra\", age = 18, city = \"İstanbul\")\n",
    "print(\"*\" * 20)\n",
    "displayUser(name = \"Alex\", age = 63, city = \"New York\", phone = \"1234567890\")"
   ]
  },
  {
   "cell_type": "markdown",
   "metadata": {},
   "source": [
    "*Lambda Expressions*\n",
    "\n",
    "Lambda expressions, also known as lambda functions, are a concise way to create small, anonymous functions in Python. They are handy for quick, simple tasks where defining a full function using 'def' would be excessive. Lambda functions use the 'lambda' keyword and can take one or more arguments to perform a specific operation. They are often used with functional programming constructs like 'map,' 'filter,' and 'reduce' to create short, on-the-fly functions."
   ]
  },
  {
   "cell_type": "code",
   "execution_count": null,
   "metadata": {},
   "outputs": [],
   "source": [
    "square = lambda x: x**2\n",
    "result = square(5)  # This will set 'result' to 25"
   ]
  },
  {
   "cell_type": "markdown",
   "metadata": {},
   "source": [
    "In Python, `map` and `filter` are built-in functions often used in functional programming.\n",
    "\n",
    "1. Map: The `map` function applies a given function to each item in an iterable (like a list) and returns an iterable containing the results. It's a convenient way to transform data without writing explicit loops.\n",
    "\n",
    "2. Filter: The `filter` function, as the name suggests, filters elements from an iterable based on a provided function. It returns a new iterable containing only the elements that satisfy the given condition."
   ]
  },
  {
   "cell_type": "code",
   "execution_count": null,
   "metadata": {},
   "outputs": [],
   "source": []
  }
 ],
 "metadata": {
  "kernelspec": {
   "display_name": "Python 3",
   "language": "python",
   "name": "python3"
  },
  "language_info": {
   "codemirror_mode": {
    "name": "ipython",
    "version": 3
   },
   "file_extension": ".py",
   "mimetype": "text/x-python",
   "name": "python",
   "nbconvert_exporter": "python",
   "pygments_lexer": "ipython3",
   "version": "3.11.4"
  },
  "orig_nbformat": 4
 },
 "nbformat": 4,
 "nbformat_minor": 2
}
