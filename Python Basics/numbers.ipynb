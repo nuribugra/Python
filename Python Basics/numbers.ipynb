{
 "cells": [
  {
   "cell_type": "markdown",
   "metadata": {},
   "source": [
    "In Python, numbers are fundamental data types used to represent various mathematical values. They come in different forms, including integers, floats, and complex numbers. In this overview, we'll delve into the world of numbers in Python and explore their characteristics and usage."
   ]
  },
  {
   "cell_type": "markdown",
   "metadata": {},
   "source": [
    "Arithmetic operators in Python are essential tools for performing various mathematical calculations and operations. These operators enable you to manipulate numeric data, making your programs more dynamic and versatile.\n",
    "\n",
    "- Addition (+)\n",
    "- Subtraction (-)\n",
    "- Multiplication (*)\n",
    "- Division (/)\n",
    "- Floor Division (//)\n",
    "- Exponention (**)\n",
    "- Modulus (%)"
   ]
  },
  {
   "cell_type": "code",
   "execution_count": 5,
   "metadata": {},
   "outputs": [
    {
     "name": "stdout",
     "output_type": "stream",
     "text": [
      "2\n",
      "9\n",
      "1\n"
     ]
    }
   ],
   "source": [
    "print(5 // 2)\n",
    "print(3 ** 2)\n",
    "print(10 % 3)"
   ]
  },
  {
   "cell_type": "markdown",
   "metadata": {},
   "source": [
    "In Python, when you perform a division operation, the result is automatically converted to a float. This happens because Python ensures that division maintains precision and accuracy, even when dealing with whole numbers. So, whether you're dividing two integers or an integer by a float, the result will be a float to provide a more accurate representation of the division's outcome. This automatic conversion helps avoid losing precision during calculations and ensures reliable results in your code."
   ]
  },
  {
   "cell_type": "code",
   "execution_count": 10,
   "metadata": {},
   "outputs": [
    {
     "name": "stdout",
     "output_type": "stream",
     "text": [
      "Number is 15\n",
      "<class 'int'>\n",
      "******************\n",
      "Result is 3.0\n",
      "<class 'float'>\n"
     ]
    }
   ],
   "source": [
    "integer_number = 15\n",
    "\n",
    "print(\"Number is \" + str(integer_number))\n",
    "print(type(integer_number))\n",
    "\n",
    "print(\"******************\")\n",
    "\n",
    "result = integer_number / 5\n",
    "\n",
    "print(\"Result is \" + str(result))\n",
    "print(type(result))\n"
   ]
  },
  {
   "cell_type": "markdown",
   "metadata": {},
   "source": [
    "*`input()` Function*\n",
    "\n",
    "The `input()` function in Python is used to gather information directly from users. It displays a prompt on the screen and waits for the user to enter data. Once the user inputs information and presses the \"Enter\" key, the data is captured as a string. This enables interactive communication between the user and the program. You can then use the input data for processing, calculations, or displaying customized messages. The `input()` function makes your programs more dynamic and user-friendly by allowing users to provide input directly to the code."
   ]
  },
  {
   "cell_type": "code",
   "execution_count": 13,
   "metadata": {},
   "outputs": [
    {
     "name": "stdout",
     "output_type": "stream",
     "text": [
      "Globe Volume is 113.03999999999999\n"
     ]
    }
   ],
   "source": [
    "# Globe Volume Calculation App\n",
    "\n",
    "# Globe Volume = V = 4/3 * πr³   \n",
    "\n",
    "radius = input(\"Enter the radius value of the globe : \")\n",
    "pi = 3.14\n",
    "\n",
    "# int() function is a explicit type conversion function.\n",
    "\n",
    "# Before performing any calculations, it's important to convert the value obtained using input() to an integer. This conversion ensures that the user's input, which is initially(firstly) taken as a string, becomes a numerical value that can be used for mathematical operations. By converting the input to an integer, you enable accurate computations and prevent errors that might arise from trying to perform mathematical operations on strings.\n",
    "\n",
    "radius = int(radius)\n",
    "\n",
    "result = (4 / 3) * pi * (radius ** 3)\n",
    "\n",
    "print(\"Globe Volume is \" + str(result))"
   ]
  }
 ],
 "metadata": {
  "kernelspec": {
   "display_name": "Python 3",
   "language": "python",
   "name": "python3"
  },
  "language_info": {
   "codemirror_mode": {
    "name": "ipython",
    "version": 3
   },
   "file_extension": ".py",
   "mimetype": "text/x-python",
   "name": "python",
   "nbconvert_exporter": "python",
   "pygments_lexer": "ipython3",
   "version": "3.11.4"
  },
  "orig_nbformat": 4
 },
 "nbformat": 4,
 "nbformat_minor": 2
}
