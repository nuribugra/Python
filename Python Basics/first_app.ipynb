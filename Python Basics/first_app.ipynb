{
 "cells": [
  {
   "cell_type": "markdown",
   "id": "fc800371",
   "metadata": {},
   "source": [
    "The command ```print(\"Hello World!\")``` is used to display the phrase \"Hello World!\" on the screen in Python. This is often the first program beginners write when learning a new programming language. It serves as a simple way to confirm that the programming environment is set up correctly and to introduce the concept of outputting information. When you run this command, the text \"Hello World!\" will be shown on the screen, indicating that the code is working as expected."
   ]
  },
  {
   "cell_type": "code",
   "execution_count": null,
   "id": "a9dc280b",
   "metadata": {},
   "outputs": [
    {
     "name": "stdout",
     "output_type": "stream",
     "text": [
      "Hello World!\n"
     ]
    }
   ],
   "source": [
    "print(\"Hello World!\")"
   ]
  },
  {
   "cell_type": "markdown",
   "id": "6d0dc561",
   "metadata": {},
   "source": [
    "In Python, you can create comments to provide explanations or notes within your code. Comments are lines that are not executed as part of the program and are intended for the programmer's understanding. To create a comment, you use the \"#\" symbol. Any text following the \"#\" symbol on the same line is considered a comment and is ignored by the Python interpreter. Comments are useful for adding context, clarifying code, or temporarily disabling code without deleting it."
   ]
  },
  {
   "cell_type": "code",
   "execution_count": 1,
   "id": "3487bcdd",
   "metadata": {},
   "outputs": [
    {
     "name": "stdout",
     "output_type": "stream",
     "text": [
      "It works.\n"
     ]
    }
   ],
   "source": [
    "print(\"It works.\") # Python will execute this line.\n",
    "\n",
    "# print(\"It doesn't work.\") # Python won't execute this line"
   ]
  }
 ],
 "metadata": {
  "kernelspec": {
   "display_name": "Python 3 (ipykernel)",
   "language": "python",
   "name": "python3"
  },
  "language_info": {
   "codemirror_mode": {
    "name": "ipython",
    "version": 3
   },
   "file_extension": ".py",
   "mimetype": "text/x-python",
   "name": "python",
   "nbconvert_exporter": "python",
   "pygments_lexer": "ipython3",
   "version": "3.12.1"
  }
 },
 "nbformat": 4,
 "nbformat_minor": 5
}
