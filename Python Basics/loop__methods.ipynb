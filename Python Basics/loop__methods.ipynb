{
 "cells": [
  {
   "cell_type": "markdown",
   "metadata": {},
   "source": [
    "In Python, loop methods are essential tools for repeating tasks in your code. They allow you to work with data collections, like lists or dictionaries, and perform actions on each item, making your programs more efficient. Python has two main types of loops: 'for' and 'while.' 'For' loops are used when you know how many times you want to repeat a task, while 'while' loops are great for situations where you need to repeat a task until a certain condition is met. By understanding and using these loops, you can create programs that perform tasks repeatedly, saving time and effort."
   ]
  },
  {
   "cell_type": "markdown",
   "metadata": {},
   "source": [
    "*`range()` Function*\n",
    "\n",
    "The `range()` function in Python is a powerful tool for creating sequences of numbers. It's often used in `for` loops to specify how many times a loop should run or to generate a series of values. With `range()`, you can easily create lists of numbers within a specified range, allowing for more control and precision in your code. This function is a handy feature when you need to work with a sequence of numbers in Python."
   ]
  },
  {
   "cell_type": "code",
   "execution_count": 3,
   "metadata": {},
   "outputs": [
    {
     "name": "stdout",
     "output_type": "stream",
     "text": [
      "50\n",
      "70\n",
      "90\n",
      "[50, 60, 70, 80, 90]\n"
     ]
    }
   ],
   "source": [
    "number_list = [0, 1, 2, 3, 4, 5, 6, 7, 8, 9]\n",
    "\n",
    "for item in range(50,100,20): # range(start, stop, step)\n",
    "    print(item)\n",
    "    \n",
    "print(list(range(50,100,10)))"
   ]
  },
  {
   "cell_type": "markdown",
   "metadata": {},
   "source": [
    "*`enumerate()` Function*\n",
    "\n",
    "The `enumerate()` function in Python is a useful tool for iterating through elements in an iterable (like a list, tuple, or string) while keeping track of their index positions. It returns pairs of both the index and the corresponding element, making it easier to work with elements and their positions in a sequence. This function simplifies tasks like tracking progress or updating specific elements during iterations, enhancing the efficiency and readability of your code."
   ]
  },
  {
   "cell_type": "code",
   "execution_count": 6,
   "metadata": {},
   "outputs": [
    {
     "name": "stdout",
     "output_type": "stream",
     "text": [
      "(0, 'H')\n",
      "(1, 'e')\n",
      "(2, 'l')\n",
      "(3, 'l')\n",
      "(4, 'o')\n",
      "(5, ' ')\n",
      "(6, 'W')\n",
      "(7, 'o')\n",
      "(8, 'r')\n",
      "(9, 'l')\n",
      "(10, 'd')\n"
     ]
    }
   ],
   "source": [
    "greeting = 'Hello World'\n",
    "\n",
    "for item in enumerate(greeting):\n",
    "    print(item)"
   ]
  },
  {
   "cell_type": "markdown",
   "metadata": {},
   "source": [
    "*`zip()` Function*\n",
    "\n",
    "The `zip()` function in Python is a handy tool for combining multiple iterables, such as lists, tuples, or strings, element by element. It pairs up elements at corresponding positions from these iterables, creating tuples that can be easily processed together. This function is particularly useful when you need to work with data that's spread across different sequences, ensuring a synchronized approach to handling related elements."
   ]
  },
  {
   "cell_type": "code",
   "execution_count": 8,
   "metadata": {},
   "outputs": [
    {
     "name": "stdout",
     "output_type": "stream",
     "text": [
      "[(1, 'a'), (2, 'b'), (3, 'c')]\n"
     ]
    }
   ],
   "source": [
    "# zip() Function\n",
    "\n",
    "my_list1 = [1, 2, 3]\n",
    "my_list2 = ['a', 'b', 'c']\n",
    "\n",
    "print(list(zip(my_list1, my_list2))) # it can be used with more than 2 lists."
   ]
  }
 ],
 "metadata": {
  "kernelspec": {
   "display_name": "Python 3",
   "language": "python",
   "name": "python3"
  },
  "language_info": {
   "codemirror_mode": {
    "name": "ipython",
    "version": 3
   },
   "file_extension": ".py",
   "mimetype": "text/x-python",
   "name": "python",
   "nbconvert_exporter": "python",
   "pygments_lexer": "ipython3",
   "version": "3.11.4"
  },
  "orig_nbformat": 4
 },
 "nbformat": 4,
 "nbformat_minor": 2
}
