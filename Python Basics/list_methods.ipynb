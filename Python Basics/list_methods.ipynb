{
 "cells": [
  {
   "cell_type": "markdown",
   "metadata": {},
   "source": [
    "In Python, lists are versatile and widely used data structures for storing collections of items. Lists are ordered and mutable, which means you can change their contents. They can hold various data types, including numbers, strings, or even other lists, making them incredibly flexible."
   ]
  },
  {
   "cell_type": "code",
   "execution_count": 15,
   "metadata": {},
   "outputs": [
    {
     "name": "stdout",
     "output_type": "stream",
     "text": [
      "The smallest number is 1\n",
      "The biggest number is 34\n"
     ]
    }
   ],
   "source": [
    "numbers = [1, 5, 34, 2, 9, 11]\n",
    "letters = [\"p\", \"y\", \"t\", \"h\", \"o\", \"n\"]\n",
    "\n",
    "print(\"The smallest number is\", min(numbers))\n",
    "print(\"The biggest number is\", max(numbers))"
   ]
  },
  {
   "cell_type": "markdown",
   "metadata": {},
   "source": [
    "*Common List Methods*\n",
    "\n",
    "1. `append(item)`: Adds an item to the end of the list.\n",
    "2. `insert(index, item)`: Inserts an item at a specific index in the list.\n",
    "3. `remove(item)`: Removes the first occurrence of an item from the list.\n",
    "4. `pop(index)`: Removes and returns the item at the specified index.\n",
    "5. `sort()`: Sorts the list in ascending order (for numbers) or alphabetical order (for strings).\n",
    "6. `reverse()`: Reverses the order of items in the list.\n",
    "7. `count(item)`: Counts the number of occurrences of an item in the list.    \n",
    "8. `clear()`: Removes all items from the list, making it empty."
   ]
  },
  {
   "cell_type": "markdown",
   "metadata": {},
   "source": [
    "1-) `append()` Function"
   ]
  },
  {
   "cell_type": "code",
   "execution_count": 16,
   "metadata": {},
   "outputs": [
    {
     "name": "stdout",
     "output_type": "stream",
     "text": [
      "[1, 5, 34, 2, 9, 11]\n",
      "['p', 'y', 't', 'h', 'o', 'n']\n",
      "*********\n",
      "[1, 5, 34, 2, 9, 11, 23]\n",
      "['p', 'y', 't', 'h', 'o', 'n', 'love']\n"
     ]
    }
   ],
   "source": [
    "print(numbers)\n",
    "print(letters)\n",
    "\n",
    "print(\"*********\")\n",
    "\n",
    "numbers.append(23)\n",
    "print(numbers)\n",
    "letters.append(\"love\")\n",
    "print(letters)"
   ]
  },
  {
   "cell_type": "markdown",
   "metadata": {},
   "source": [
    "2-) `insert()` Function"
   ]
  },
  {
   "cell_type": "code",
   "execution_count": 17,
   "metadata": {},
   "outputs": [
    {
     "name": "stdout",
     "output_type": "stream",
     "text": [
      "[1, 5, 34, 2, 9, 11, 23]\n",
      "['p', 'y', 't', 'h', 'o', 'n', 'love']\n",
      "*********\n",
      "[7, 1, 5, 34, 2, 9, 11, 23]\n",
      "['p', 'y', 't', 'h', 'o', 'n', 'love', 'you']\n"
     ]
    }
   ],
   "source": [
    "print(numbers)\n",
    "print(letters)\n",
    "\n",
    "print(\"*********\")\n",
    "\n",
    "numbers.insert(0, 7)\n",
    "print(numbers)\n",
    "letters.insert(7, \"you\")\n",
    "print(letters)"
   ]
  },
  {
   "cell_type": "markdown",
   "metadata": {},
   "source": [
    "3-) `remove()` Function"
   ]
  },
  {
   "cell_type": "code",
   "execution_count": 18,
   "metadata": {},
   "outputs": [
    {
     "name": "stdout",
     "output_type": "stream",
     "text": [
      "[7, 1, 5, 34, 2, 9, 11, 23]\n",
      "['p', 'y', 't', 'h', 'o', 'n', 'love', 'you']\n",
      "*********\n",
      "[7, 1, 5, 2, 9, 11, 23]\n"
     ]
    }
   ],
   "source": [
    "print(numbers)\n",
    "print(letters)\n",
    "\n",
    "print(\"*********\")\n",
    "\n",
    "numbers.remove(34)\n",
    "print(numbers)"
   ]
  },
  {
   "cell_type": "markdown",
   "metadata": {},
   "source": [
    "4-) `pop()` Function"
   ]
  },
  {
   "cell_type": "code",
   "execution_count": 19,
   "metadata": {},
   "outputs": [
    {
     "name": "stdout",
     "output_type": "stream",
     "text": [
      "[7, 1, 5, 2, 9, 11, 23]\n",
      "['p', 'y', 't', 'h', 'o', 'n', 'love', 'you']\n",
      "*********\n",
      "['p', 'y', 't', 'h', 'o', 'n', 'love']\n"
     ]
    }
   ],
   "source": [
    "print(numbers)\n",
    "print(letters)\n",
    "\n",
    "print(\"*********\")\n",
    "\n",
    "letters.pop(7)\n",
    "print(letters)"
   ]
  },
  {
   "cell_type": "markdown",
   "metadata": {},
   "source": [
    "5-) `sort()` Function"
   ]
  },
  {
   "cell_type": "code",
   "execution_count": 20,
   "metadata": {},
   "outputs": [
    {
     "name": "stdout",
     "output_type": "stream",
     "text": [
      "[7, 1, 5, 2, 9, 11, 23]\n",
      "['p', 'y', 't', 'h', 'o', 'n', 'love']\n",
      "*********\n",
      "[1, 2, 5, 7, 9, 11, 23]\n"
     ]
    }
   ],
   "source": [
    "print(numbers)\n",
    "print(letters)\n",
    "\n",
    "print(\"*********\")\n",
    "\n",
    "numbers.sort() # min to max\n",
    "print(numbers) "
   ]
  },
  {
   "cell_type": "markdown",
   "metadata": {},
   "source": [
    "6-) `reverse()` Function "
   ]
  },
  {
   "cell_type": "code",
   "execution_count": 21,
   "metadata": {},
   "outputs": [
    {
     "name": "stdout",
     "output_type": "stream",
     "text": [
      "[1, 2, 5, 7, 9, 11, 23]\n",
      "['p', 'y', 't', 'h', 'o', 'n', 'love']\n",
      "*********\n",
      "[23, 11, 9, 7, 5, 2, 1]\n"
     ]
    }
   ],
   "source": [
    "print(numbers)\n",
    "print(letters)\n",
    "\n",
    "print(\"*********\")\n",
    "\n",
    "numbers.reverse() # max to min\n",
    "print(numbers)"
   ]
  },
  {
   "cell_type": "markdown",
   "metadata": {},
   "source": [
    "7-) `count()` Function"
   ]
  },
  {
   "cell_type": "code",
   "execution_count": 22,
   "metadata": {},
   "outputs": [
    {
     "name": "stdout",
     "output_type": "stream",
     "text": [
      "[23, 11, 9, 7, 5, 2, 1]\n",
      "['p', 'y', 't', 'h', 'o', 'n', 'love']\n",
      "*********\n",
      "1\n"
     ]
    }
   ],
   "source": [
    "print(numbers)\n",
    "print(letters)\n",
    "\n",
    "print(\"*********\")\n",
    "\n",
    "print(numbers.count(11))"
   ]
  },
  {
   "cell_type": "markdown",
   "metadata": {},
   "source": [
    "8-) `clear()` Function"
   ]
  },
  {
   "cell_type": "code",
   "execution_count": 23,
   "metadata": {},
   "outputs": [
    {
     "name": "stdout",
     "output_type": "stream",
     "text": [
      "[23, 11, 9, 7, 5, 2, 1]\n",
      "['p', 'y', 't', 'h', 'o', 'n', 'love']\n",
      "*********\n",
      "[]\n"
     ]
    }
   ],
   "source": [
    "print(numbers)\n",
    "print(letters)\n",
    "\n",
    "print(\"*********\")\n",
    "\n",
    "letters.clear()\n",
    "print(letters) # Empty"
   ]
  }
 ],
 "metadata": {
  "kernelspec": {
   "display_name": "Python 3",
   "language": "python",
   "name": "python3"
  },
  "language_info": {
   "codemirror_mode": {
    "name": "ipython",
    "version": 3
   },
   "file_extension": ".py",
   "mimetype": "text/x-python",
   "name": "python",
   "nbconvert_exporter": "python",
   "pygments_lexer": "ipython3",
   "version": "3.11.4"
  },
  "orig_nbformat": 4
 },
 "nbformat": 4,
 "nbformat_minor": 2
}
