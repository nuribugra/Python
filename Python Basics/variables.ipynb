{
 "cells": [
  {
   "cell_type": "markdown",
   "metadata": {},
   "source": [
    "Variables are placeholders that allow you to store data values and give them a name for easy reference. They act as containers for storing information that can be used, modified, or retrieved during the execution of a program. Variables help make code more readable, understandable, and dynamic.\n",
    "\n",
    "In Python, variables are created by assigning a value to a name using the = operator. Python is a dynamically-typed language, meaning you don't need to declare the data type of a variable explicitly. The interpreter determines the data type based on the assigned value. "
   ]
  },
  {
   "cell_type": "code",
   "execution_count": 1,
   "metadata": {},
   "outputs": [
    {
     "name": "stdout",
     "output_type": "stream",
     "text": [
      "Nuri Buğra Demir\n",
      "Age is 20\n",
      "After the reassignment..\n",
      "Age is 27\n"
     ]
    }
   ],
   "source": [
    "name = \"Nuri Buğra Demir\"\n",
    "age = 20\n",
    "isOnline = True # First letter is capital.\n",
    "\n",
    "print(name)\n",
    "print(\"Age is\", age)\n",
    "\n",
    "# Reassignment\n",
    "age = 27\n",
    "print(\"After the reassignment..\")\n",
    "print(\"Age is\", age)"
   ]
  },
  {
   "cell_type": "markdown",
   "metadata": {},
   "source": [
    "*`type()` Function*\n",
    "\n",
    "The `type()` function in Python helps you identify the data type of a value or variable. This quick guide will show you how to use the `type()` function effectively."
   ]
  },
  {
   "cell_type": "code",
   "execution_count": 6,
   "metadata": {},
   "outputs": [
    {
     "name": "stdout",
     "output_type": "stream",
     "text": [
      "<class 'str'>\n",
      "<class 'int'>\n",
      "<class 'bool'>\n"
     ]
    }
   ],
   "source": [
    "print(type(name)) # At the top, you can sea the variable # str\n",
    "print(type(age)) # int\n",
    "print(type(isOnline)) #bool"
   ]
  }
 ],
 "metadata": {
  "kernelspec": {
   "display_name": "Python 3",
   "language": "python",
   "name": "python3"
  },
  "language_info": {
   "codemirror_mode": {
    "name": "ipython",
    "version": 3
   },
   "file_extension": ".py",
   "mimetype": "text/x-python",
   "name": "python",
   "nbconvert_exporter": "python",
   "pygments_lexer": "ipython3",
   "version": "3.11.4"
  },
  "orig_nbformat": 4
 },
 "nbformat": 4,
 "nbformat_minor": 2
}
