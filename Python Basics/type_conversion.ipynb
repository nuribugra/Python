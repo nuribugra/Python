{
 "cells": [
  {
   "cell_type": "markdown",
   "metadata": {},
   "source": [
    "Type casting, also known as type conversion, is the process of converting a value from one data type to another in a programming language. Python provides several built-in functions that allow you to perform type casting. This guide will walk you through the basics of type casting in Python.\n",
    "\n",
    "**Implicit Type Conversion:**\n",
    "Python automatically performs implicit type conversion when you mix different data types in an expression. For example, if you add an integer and a floating-point number, Python will automatically convert the integer to a float before performing the addition."
   ]
  },
  {
   "cell_type": "code",
   "execution_count": 1,
   "metadata": {},
   "outputs": [
    {
     "name": "stdout",
     "output_type": "stream",
     "text": [
      "8.14\n"
     ]
    }
   ],
   "source": [
    "num_int = 5\n",
    "num_float = 3.14\n",
    "\n",
    "result = num_int + num_float\n",
    "print(result)  # Output: 8.14 (integer converted to float)\n"
   ]
  },
  {
   "cell_type": "markdown",
   "metadata": {},
   "source": [
    "**2. Explicit Type Conversion:**\n",
    "You can explicitly convert one data type to another using built-in functions. The most commonly used functions for type casting are:\n",
    "\n",
    "- `int()`: Converts a value to an integer.\n",
    "- `float()`: Converts a value to a floating-point number.\n",
    "- `str()`: Converts a value to a string.\n",
    "- `bool()`: Converts a value to a boolean.\n",
    "- `list()`: Converts a value to a list.\n",
    "- `tuple()`: Converts a value to a tuple."
   ]
  },
  {
   "cell_type": "code",
   "execution_count": 2,
   "metadata": {},
   "outputs": [
    {
     "name": "stdout",
     "output_type": "stream",
     "text": [
      "123\n",
      "123.0\n",
      "['H', 'e', 'l', 'l', 'o']\n"
     ]
    }
   ],
   "source": [
    "num_str = \"123\"\n",
    "num_int = int(num_str)  # Convert string to integer\n",
    "print(num_int)  # Output: 123\n",
    "\n",
    "num_float = float(num_int)  # Convert integer to float\n",
    "print(num_float)  # Output: 123.0\n",
    "\n",
    "message = \"Hello\"\n",
    "message_list = list(message)  # Convert string to list\n",
    "print(message_list)  # Output: ['H', 'e', 'l', 'l', 'o']\n"
   ]
  },
  {
   "cell_type": "markdown",
   "metadata": {},
   "source": [
    "Type casting may result in errors if the conversion is not possible. For example, converting a string that doesn't represent a valid number to an integer will raise a `ValueError`."
   ]
  },
  {
   "cell_type": "code",
   "execution_count": 3,
   "metadata": {},
   "outputs": [
    {
     "name": "stdout",
     "output_type": "stream",
     "text": [
      "Invalid input for integer conversion\n"
     ]
    }
   ],
   "source": [
    "invalid_input = \"abc\"\n",
    "try:\n",
    "    num = int(invalid_input)\n",
    "except ValueError:\n",
    "    print(\"Invalid input for integer conversion\")\n"
   ]
  }
 ],
 "metadata": {
  "kernelspec": {
   "display_name": "Python 3",
   "language": "python",
   "name": "python3"
  },
  "language_info": {
   "codemirror_mode": {
    "name": "ipython",
    "version": 3
   },
   "file_extension": ".py",
   "mimetype": "text/x-python",
   "name": "python",
   "nbconvert_exporter": "python",
   "pygments_lexer": "ipython3",
   "version": "3.11.4"
  },
  "orig_nbformat": 4
 },
 "nbformat": 4,
 "nbformat_minor": 2
}
