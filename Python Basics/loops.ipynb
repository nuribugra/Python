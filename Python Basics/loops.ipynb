{
 "cells": [
  {
   "cell_type": "markdown",
   "metadata": {},
   "source": [
    "Loops are essential programming constructs used to execute a set of instructions repeatedly until a specified condition is met. They allow automation of repetitive tasks, enabling more efficient and concise code. In essence, loops provide the ability to perform the same or similar actions multiple times, making them a fundamental element in programming for tasks like data processing, iteration, and control flow."
   ]
  },
  {
   "cell_type": "markdown",
   "metadata": {},
   "source": [
    "*`for` Loops*\n",
    "\n",
    "In Python, for loops are a fundamental construct used for iterating over sequences of elements, such as lists, tuples, strings, and more. These loops offer a concise and efficient way to perform repetitive tasks and apply a specific set of instructions to each item in the sequence. For loops are a key tool in a Python programmer's toolkit, enabling automation and the efficient processing of data collections without the need for repetitive code blocks."
   ]
  },
  {
   "cell_type": "code",
   "execution_count": 3,
   "metadata": {},
   "outputs": [
    {
     "name": "stdout",
     "output_type": "stream",
     "text": [
      "1\n",
      "2\n",
      "3\n",
      "4\n",
      "5\n",
      "********************\n",
      "My name is George\n",
      "My name is Ted\n",
      "My name is Mallorie\n",
      "My name is Juliana\n"
     ]
    }
   ],
   "source": [
    "numbers = [1, 2, 3, 4, 5]\n",
    "\n",
    "for number in numbers: # By this code, we can print all the numbers in the list.\n",
    "    print(number)\n",
    "\n",
    "print(\"*\" * 20)\n",
    "\n",
    "names = [\"George\", \"Ted\", \"Mallorie\", \"Juliana\"]\n",
    "\n",
    "for name in names:\n",
    "    print(f\"My name is {name}\")"
   ]
  },
  {
   "cell_type": "markdown",
   "metadata": {},
   "source": [
    "*`items()` Function*\n",
    "\n",
    "The `items()` function allows you to loop through both keys and their corresponding values simultaneously. This makes it particularly useful when you need to access both pieces of information within the dictionary."
   ]
  },
  {
   "cell_type": "code",
   "execution_count": 4,
   "metadata": {},
   "outputs": [
    {
     "name": "stdout",
     "output_type": "stream",
     "text": [
      "Key: name, Value: John\n",
      "Key: age, Value: 30\n",
      "Key: city, Value: New York\n"
     ]
    }
   ],
   "source": [
    "my_dict = {'name': 'John', 'age': 30, 'city': 'New York'}\n",
    "\n",
    "for key, value in my_dict.items():\n",
    "    print(f'Key: {key}, Value: {value}')"
   ]
  },
  {
   "cell_type": "markdown",
   "metadata": {},
   "source": [
    "In this example, `my_dict.items()` returns a sequence of key-value pairs, which are then conveniently unpacked into key and value variables during each iteration of the loop. This allows you to access both the keys and their associated values within the loop block. This approach is highly effective when you need to work with the content of a dictionary comprehensively."
   ]
  },
  {
   "cell_type": "markdown",
   "metadata": {},
   "source": [
    "*`while` Loops*\n",
    "\n",
    "In Python, a `while` loop is a fundamental control structure that allows you to execute a block of code repeatedly as long as a specified condition remains true. Unlike `for` loops, which are typically used when you know the number of iterations in advance, `while` loops are more flexible and are employed when you want to repeat an action until a particular condition is met. This construct is particularly useful for situations where you cannot determine the exact number of iterations beforehand."
   ]
  },
  {
   "cell_type": "code",
   "execution_count": 7,
   "metadata": {},
   "outputs": [
    {
     "name": "stdout",
     "output_type": "stream",
     "text": [
      "1\n",
      "2\n",
      "3\n",
      "4\n",
      "5\n",
      "6\n",
      "7\n",
      "8\n",
      "9\n",
      "10\n",
      "********************\n",
      "It's done!\n"
     ]
    }
   ],
   "source": [
    "# Print the numbers from 1 to 10\n",
    "\n",
    "x = 0\n",
    "\n",
    "while x < 10:\n",
    "    x += 1\n",
    "    print(x)\n",
    "\n",
    "print(\"*\" * 20)\n",
    "\n",
    "print(\"It's done!\")"
   ]
  },
  {
   "cell_type": "markdown",
   "metadata": {},
   "source": [
    "*`break` and `continue` Keywords*\n",
    "\n",
    "In Python, `break` and `continue` are essential keywords used in loops. `Break` is used to prematurely exit a loop based on a specific condition, while `continue` allows you to skip the current iteration and proceed to the next if a certain condition is met. These control flow features provide precise control over loop execution, making your code more efficient and adaptable to various situations."
   ]
  },
  {
   "cell_type": "markdown",
   "metadata": {},
   "source": [
    "1. Break:\n",
    "\n",
    "- The \"break\" keyword is used within loops (like \"for\" or \"while\") to terminate the loop prematurely.\n",
    "\n",
    "- When a \"break\" statement is encountered inside a loop, it immediately exits the loop, and program execution       continues with the next statement after the loop.\n",
    "\n",
    "- \"break\" is typically used to exit a loop when a specific condition is met, even if the loop's termination condition is not satisfied."
   ]
  },
  {
   "cell_type": "code",
   "execution_count": 8,
   "metadata": {},
   "outputs": [
    {
     "name": "stdout",
     "output_type": "stream",
     "text": [
      "1\n",
      "2\n",
      "3\n",
      "4\n"
     ]
    }
   ],
   "source": [
    "for i in range(1, 10):\n",
    "    if i == 5:\n",
    "        break  # Exit the loop when i becomes 5\n",
    "    print(i)"
   ]
  },
  {
   "cell_type": "markdown",
   "metadata": {},
   "source": [
    "2. Continue:\n",
    "\n",
    "- The \"continue\" keyword is also used within loops.\n",
    "\n",
    "- When a \"continue\" statement is encountered inside a loop, it skips the current iteration of the loop and proceeds with the next iteration.\n",
    "\n",
    "- It's useful when you want to skip certain iterations based on a condition but continue with the rest of the loop."
   ]
  },
  {
   "cell_type": "code",
   "execution_count": 9,
   "metadata": {},
   "outputs": [
    {
     "name": "stdout",
     "output_type": "stream",
     "text": [
      "1\n",
      "2\n",
      "4\n",
      "5\n"
     ]
    }
   ],
   "source": [
    "for i in range(1, 6):\n",
    "    if i == 3:\n",
    "        continue  # Skip iteration when i is 3\n",
    "    print(i)"
   ]
  }
 ],
 "metadata": {
  "kernelspec": {
   "display_name": "Python 3",
   "language": "python",
   "name": "python3"
  },
  "language_info": {
   "codemirror_mode": {
    "name": "ipython",
    "version": 3
   },
   "file_extension": ".py",
   "mimetype": "text/x-python",
   "name": "python",
   "nbconvert_exporter": "python",
   "pygments_lexer": "ipython3",
   "version": "3.11.4"
  },
  "orig_nbformat": 4
 },
 "nbformat": 4,
 "nbformat_minor": 2
}
