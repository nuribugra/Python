{
 "cells": [
  {
   "cell_type": "markdown",
   "metadata": {},
   "source": [
    "Conditional statements are used in Python to make decisions in your code. These statements allow you to execute different blocks of code based on whether a specified condition evaluates to True or False.\n",
    "\n",
    "- `if` Statement: The `if` statement is used to execute a block of code only if the specified condition is True. If the condition is False, the code block is skipped.\n",
    "\n",
    "- `else` Statement: The `else` statement is used in conjunction with `if`. It specifies a block of code to be executed if the condition in the `if` statement is False.\n",
    "\n",
    "- `elif` Statement: The `elif` (short for \"else if\") statement allows you to check multiple conditions sequentially. It is used after an `if` statement and before an optional `else` statement. If the condition in the `if` statement is False, Python checks the conditions in any `elif` statements until one evaluates to True or until all conditions have been checked."
   ]
  },
  {
   "cell_type": "code",
   "execution_count": 1,
   "metadata": {},
   "outputs": [
    {
     "name": "stdout",
     "output_type": "stream",
     "text": [
      "x is less than y\n"
     ]
    }
   ],
   "source": [
    "x = 3\n",
    "y = 8\n",
    "\n",
    "if x > y:\n",
    "    print(\"x is greater than y\")\n",
    "elif x < y:\n",
    "    print(\"x is less than y\")\n",
    "else:\n",
    "    print(\"x and y are equal\")"
   ]
  },
  {
   "cell_type": "code",
   "execution_count": 5,
   "metadata": {},
   "outputs": [
    {
     "name": "stdout",
     "output_type": "stream",
     "text": [
      "Login Successful\n"
     ]
    }
   ],
   "source": [
    "# Login Application\n",
    "\n",
    "username = input(\"username:\")\n",
    "password = input(\"password:\")\n",
    "\n",
    "if (username == \"admin\") and (password == \"admin123\"):\n",
    "    print(\"Login Successful\")\n",
    "elif (username == \"admin\") and (password != \"admin123\"):\n",
    "    print(\"Password is incorrect\")\n",
    "else:\n",
    "    print(\"Invalid username and password\")"
   ]
  }
 ],
 "metadata": {
  "kernelspec": {
   "display_name": "Python 3",
   "language": "python",
   "name": "python3"
  },
  "language_info": {
   "codemirror_mode": {
    "name": "ipython",
    "version": 3
   },
   "file_extension": ".py",
   "mimetype": "text/x-python",
   "name": "python",
   "nbconvert_exporter": "python",
   "pygments_lexer": "ipython3",
   "version": "3.11.4"
  },
  "orig_nbformat": 4
 },
 "nbformat": 4,
 "nbformat_minor": 2
}
