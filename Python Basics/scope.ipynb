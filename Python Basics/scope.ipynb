{
 "cells": [
  {
   "cell_type": "markdown",
   "metadata": {},
   "source": [
    "In Python, scopes define the visibility and accessibility of variables within your code. There are mainly two types of scopes: global and local. Understanding and defining them correctly is essential for writing clean and efficient code.\n",
    "\n",
    "1. Global Scope: Variables defined in the global scope are accessible from anywhere in the code, both inside and outside functions. These variables are typically declared outside of any function or class. To define a global variable, simply assign a value to it outside of any function or class.\n",
    "\n",
    "2. Local Scope: Variables defined within a function have a local scope, meaning they are only accessible within that function. These variables are not visible to the outside code. To define a local variable, assign a value to it inside a function using the assignment operator."
   ]
  },
  {
   "cell_type": "code",
   "execution_count": 2,
   "metadata": {},
   "outputs": [
    {
     "name": "stdout",
     "output_type": "stream",
     "text": [
      "20\n",
      "***********\n",
      "Function result\n",
      "40\n"
     ]
    }
   ],
   "source": [
    "variable = 10  # This is a global variable\n",
    "\n",
    "print(variable * 2)\n",
    "\n",
    "def my_function():\n",
    "    variable = 20  # This is a local variable\n",
    "    print(variable * 2)\n",
    "\n",
    "print(\"***********\\nFunction result\")\n",
    "\n",
    "my_function()"
   ]
  },
  {
   "cell_type": "code",
   "execution_count": 6,
   "metadata": {},
   "outputs": [
    {
     "name": "stdout",
     "output_type": "stream",
     "text": [
      "20\n",
      "***********\n",
      "Function result\n",
      "20\n"
     ]
    }
   ],
   "source": [
    "variable = 10  # This is a global variable\n",
    "\n",
    "print(variable * 2)\n",
    "\n",
    "def my_function():\n",
    "    # variable = 20  # This is a local variable\n",
    "    print(variable * 2)\n",
    "\n",
    "print(\"***********\\nFunction result\")\n",
    "\n",
    "my_function()"
   ]
  },
  {
   "cell_type": "code",
   "execution_count": 13,
   "metadata": {},
   "outputs": [
    {
     "name": "stdout",
     "output_type": "stream",
     "text": [
      "3\n"
     ]
    }
   ],
   "source": [
    "# global variable\n",
    "c = 1 \n",
    "\n",
    "def add():\n",
    "\n",
    "    # use of global keyword\n",
    "    global c\n",
    "\n",
    "    # increment c by 2\n",
    "    c = c + 2 \n",
    "\n",
    "    print(c)\n",
    "\n",
    "add()"
   ]
  }
 ],
 "metadata": {
  "kernelspec": {
   "display_name": "Python 3",
   "language": "python",
   "name": "python3"
  },
  "language_info": {
   "codemirror_mode": {
    "name": "ipython",
    "version": 3
   },
   "file_extension": ".py",
   "mimetype": "text/x-python",
   "name": "python",
   "nbconvert_exporter": "python",
   "pygments_lexer": "ipython3",
   "version": "3.11.4"
  },
  "orig_nbformat": 4
 },
 "nbformat": 4,
 "nbformat_minor": 2
}
