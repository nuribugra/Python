{
 "cells": [
  {
   "cell_type": "markdown",
   "metadata": {},
   "source": [
    "We have numerous choices for modifying a string value, and we refer to these options as \"methods.\" These methods provide powerful tools for working with strings in Python."
   ]
  },
  {
   "cell_type": "code",
   "execution_count": 1,
   "metadata": {},
   "outputs": [
    {
     "name": "stdout",
     "output_type": "stream",
     "text": [
      "IN THIS COURSE, WE'RE GOING TO LEARN SOME TRICKS ABOUT PYTON.\n",
      "in this course, we're going to learn some tricks about pyton.\n",
      "In this course, we're going to learn some tricks about pyton.\n"
     ]
    }
   ],
   "source": [
    "text = \"In this course, We're going to learn some tricks about Pyton.\"\n",
    "\n",
    "print(text.upper())\n",
    "print(text.lower())\n",
    "print(text.capitalize())"
   ]
  },
  {
   "cell_type": "markdown",
   "metadata": {},
   "source": [
    "In Python, we can replace the items of an array using various methods. \n",
    "(Remember, All strings are actually an array.)"
   ]
  },
  {
   "cell_type": "code",
   "execution_count": 2,
   "metadata": {},
   "outputs": [
    {
     "name": "stdout",
     "output_type": "stream",
     "text": [
      "Before the replacing\n",
      "In this course, We're going to learn some tricks about Pyton.\n",
      "***************************\n",
      "In this course, We're going to learn some tips about Pyton.\n"
     ]
    }
   ],
   "source": [
    "print(\"Before the replacing\")\n",
    "print(text)\n",
    "\n",
    "print(\"***************************\")\n",
    "\n",
    "print(text.replace(\"tricks\", \"tips\"))"
   ]
  },
  {
   "cell_type": "code",
   "execution_count": 3,
   "metadata": {},
   "outputs": [
    {
     "name": "stdout",
     "output_type": "stream",
     "text": [
      "       This text has got whitespaces.           \n",
      "**********\n",
      "This text has got whitespaces.\n"
     ]
    }
   ],
   "source": [
    "text2 = \"       This text has got whitespaces.           \"\n",
    "\n",
    "print(text2)\n",
    "\n",
    "print(\"**********\")\n",
    "\n",
    "print(text2.strip()) # strip() function clears all whitespaces at the left and right. lstrip(), rstrip()"
   ]
  },
  {
   "cell_type": "markdown",
   "metadata": {},
   "source": [
    "*`split()` and `join()` Functions*\n",
    "\n",
    "- `split(delimiter)` function splits the string into a list of substrings based on the 'delimiter'.\n",
    "\n",
    "- `join(iterable)` function joins a sequence of strings in 'iterable' into a single string, using the original string as a delimiter."
   ]
  },
  {
   "cell_type": "code",
   "execution_count": 4,
   "metadata": {},
   "outputs": [
    {
     "name": "stdout",
     "output_type": "stream",
     "text": [
      "In this course, We're going to learn some tricks about Pyton.\n",
      "*****************\n",
      "['In', 'this', 'course,', \"We're\", 'going', 'to', 'learn', 'some', 'tricks', 'about', 'Pyton.']\n",
      "['In this cours', ', W', \"'r\", ' going to l', 'arn som', ' tricks about Pyton.']\n",
      "****************\n",
      "In this course, We're going to learn some tricks about Pyton.\n",
      "In-this-course,-We're-going-to-learn-some-tricks-about-Pyton.\n",
      "In#this#course,#We're#going#to#learn#some#tricks#about#Pyton.\n"
     ]
    }
   ],
   "source": [
    "print(text)\n",
    "\n",
    "print(\"*****************\")\n",
    "\n",
    "print(text.split(\" \")) # based on one space character\n",
    "print(text.split(\"e\")) # based on \"e\" letter\n",
    "\n",
    "print(\"****************\")\n",
    "\n",
    "array1 = text.split(\" \")\n",
    "\n",
    "print(\" \".join(array1)) # based on one space character\n",
    "print(\"-\".join(array1)) # based on dash character\n",
    "print(\"#\".join(array1)) # based on octothorpe character"
   ]
  },
  {
   "cell_type": "markdown",
   "metadata": {},
   "source": [
    "In Python, the `find()` function is used to search for a specific substring within a string. It returns the index of the first occurrence of the substring if found, and -1 if the substring is not present in the string. This function is handy when you want to check if a particular sequence of characters exists within a larger text. "
   ]
  },
  {
   "cell_type": "code",
   "execution_count": 20,
   "metadata": {},
   "outputs": [
    {
     "name": "stdout",
     "output_type": "stream",
     "text": [
      "28\n",
      "learn\n"
     ]
    }
   ],
   "source": [
    "print(text.find(\"learn\")) # It gives index of the first letter(in this case, letter is \"l\"). \n",
    "print(text[28:33])"
   ]
  }
 ],
 "metadata": {
  "kernelspec": {
   "display_name": "Python 3",
   "language": "python",
   "name": "python3"
  },
  "language_info": {
   "codemirror_mode": {
    "name": "ipython",
    "version": 3
   },
   "file_extension": ".py",
   "mimetype": "text/x-python",
   "name": "python",
   "nbconvert_exporter": "python",
   "pygments_lexer": "ipython3",
   "version": "3.11.4"
  },
  "orig_nbformat": 4
 },
 "nbformat": 4,
 "nbformat_minor": 2
}
