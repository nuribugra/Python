{
 "cells": [
  {
   "cell_type": "markdown",
   "metadata": {},
   "source": [
    "Assignment operators in Python are used to assign values to variables. They include common operators like `=`, `+=`, `-=`, `*=`, `/=`, and `%=`, each serving a specific purpose in assigning and updating variable values efficiently. These operators are essential for managing and manipulating data within Python programs."
   ]
  },
  {
   "cell_type": "code",
   "execution_count": 6,
   "metadata": {},
   "outputs": [
    {
     "name": "stdout",
     "output_type": "stream",
     "text": [
      "3 8 Text\n",
      "************\n",
      "0.5 25 Text and more text\n"
     ]
    }
   ],
   "source": [
    "x = 3\n",
    "y = 8\n",
    "z = \"Text\"\n",
    "\n",
    "print(x, y, z)\n",
    "\n",
    "print(\"************\")\n",
    "\n",
    "x += 4 # x = x + 4\n",
    "y -= 3 # y = y - 3\n",
    "z += \" and more text\" # z = z + \" and more text\"\n",
    "\n",
    "x /= 2 # x = x / 2\n",
    "y *= 5 # y = y * 5\n",
    "x %= 3 # x = x % 3\n",
    "\n",
    "print(x, y, z)"
   ]
  }
 ],
 "metadata": {
  "kernelspec": {
   "display_name": "Python 3",
   "language": "python",
   "name": "python3"
  },
  "language_info": {
   "codemirror_mode": {
    "name": "ipython",
    "version": 3
   },
   "file_extension": ".py",
   "mimetype": "text/x-python",
   "name": "python",
   "nbconvert_exporter": "python",
   "pygments_lexer": "ipython3",
   "version": "3.11.4"
  },
  "orig_nbformat": 4
 },
 "nbformat": 4,
 "nbformat_minor": 2
}
