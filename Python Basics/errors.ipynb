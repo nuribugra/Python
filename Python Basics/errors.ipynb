{
 "cells": [
  {
   "cell_type": "markdown",
   "metadata": {},
   "source": [
    "In Python, like in any programming language, errors are an inevitable part of the development process. These errors can come in various forms and are typically categorized into three main types: syntax errors, runtime errors, and logical errors.\n",
    "\n",
    "1. **Syntax Errors:** These are the most common type of errors and occur when you make a mistake in the code's structure. For example, forgetting to close a parenthesis, missing a colon, or having a typo in a keyword. Python's interpreter is quite strict about these errors and will usually point them out with a helpful error message.\n",
    "\n",
    "2. **Runtime Errors:** Also known as exceptions, runtime errors occur when a program is running and encounters a problem. This might include attempting to divide by zero, accessing a non-existent file, or using a variable that hasn't been defined. Python provides mechanisms for handling exceptions to prevent your program from crashing.\n",
    "\n",
    "3. **Logical Errors:** These are the most challenging to identify and occur when the code doesn't do what it's intended to do. The syntax is correct, and there are no runtime errors, but the program's logic is flawed. Finding and fixing logical errors often requires thorough testing and debugging.\n",
    "\n",
    "Learning how to identify and handle these errors is a crucial part of becoming a proficient Python programmer. Python offers tools like exceptions and debugging techniques to help you address errors and improve the quality of your code."
   ]
  },
  {
   "cell_type": "markdown",
   "metadata": {},
   "source": [
    "*Error Handling*"
   ]
  },
  {
   "cell_type": "code",
   "execution_count": 6,
   "metadata": {},
   "outputs": [
    {
     "name": "stdout",
     "output_type": "stream",
     "text": [
      "3.0\n"
     ]
    }
   ],
   "source": [
    "while True:\n",
    "\n",
    "    try:\n",
    "        x = int(input(\"Enter a number: \"))\n",
    "        y = int(input(\"Enter another number: \"))\n",
    "\n",
    "        print(x / y)\n",
    "    except ValueError:\n",
    "        print(\"Invalid input\")\n",
    "    except ZeroDivisionError:\n",
    "        print(\"Cannot divide by zero\")\n",
    "    \n",
    "    else:\n",
    "        break"
   ]
  },
  {
   "cell_type": "markdown",
   "metadata": {},
   "source": [
    "*Raising an Exception*"
   ]
  },
  {
   "cell_type": "code",
   "execution_count": 15,
   "metadata": {},
   "outputs": [
    {
     "name": "stdout",
     "output_type": "stream",
     "text": [
      "Valid password\n"
     ]
    }
   ],
   "source": [
    "x = 10\n",
    "\n",
    "# if x > 5:\n",
    "#     raise Exception(\"x cannot be greater than 5.\")\n",
    "\n",
    "def check_password(password):\n",
    "    import re\n",
    "\n",
    "    if len(password) < 8:\n",
    "        raise Exception(\"Password must be at least 8 characters long.\")\n",
    "    elif not re.search(\"[a-z]\", password):\n",
    "        raise Exception(\"Password must contain at least one lowercase letter.\")\n",
    "    elif not re.search(\"[A-Z]\", password):\n",
    "        raise Exception(\"Password must contain at least one uppercase letter.\")\n",
    "    elif not re.search(\"[0-9]\", password):\n",
    "        raise Exception(\"Password must contain at least one digit.\")\n",
    "    elif not re.search(\"[_@$]\", password):\n",
    "        raise Exception(\"Password must contain at least one special character.\")\n",
    "    elif re.search(\"\\s\", password):\n",
    "        raise Exception(\"Password must not contain any whitespace characters.\")\n",
    "    else:\n",
    "        print(\"Valid password\")\n",
    "    \n",
    "my_password = \"Password123$\"\n",
    "\n",
    "try:\n",
    "    check_password(my_password)\n",
    "except Exception as error:\n",
    "    print(error)\n"
   ]
  },
  {
   "cell_type": "code",
   "execution_count": 17,
   "metadata": {},
   "outputs": [
    {
     "ename": "Exception",
     "evalue": "Name cannot be longer than 10 characters.",
     "output_type": "error",
     "traceback": [
      "\u001b[1;31m---------------------------------------------------------------------------\u001b[0m",
      "\u001b[1;31mException\u001b[0m                                 Traceback (most recent call last)",
      "\u001b[1;32mc:\\Users\\Nuri Buğra Demir\\Desktop\\Python Studies\\Python Basics\\errors.ipynb Cell 6\u001b[0m line \u001b[0;36m8\n\u001b[0;32m      <a href='vscode-notebook-cell:/c%3A/Users/Nuri%20Bu%C4%9Fra%20Demir/Desktop/Python%20Studies/Python%20Basics/errors.ipynb#W6sZmlsZQ%3D%3D?line=4'>5</a>\u001b[0m         \u001b[39melse\u001b[39;00m: \n\u001b[0;32m      <a href='vscode-notebook-cell:/c%3A/Users/Nuri%20Bu%C4%9Fra%20Demir/Desktop/Python%20Studies/Python%20Basics/errors.ipynb#W6sZmlsZQ%3D%3D?line=5'>6</a>\u001b[0m             \u001b[39mself\u001b[39m\u001b[39m.\u001b[39mname \u001b[39m=\u001b[39m name\n\u001b[1;32m----> <a href='vscode-notebook-cell:/c%3A/Users/Nuri%20Bu%C4%9Fra%20Demir/Desktop/Python%20Studies/Python%20Basics/errors.ipynb#W6sZmlsZQ%3D%3D?line=7'>8</a>\u001b[0m p \u001b[39m=\u001b[39m Person(\u001b[39m\"\u001b[39;49m\u001b[39mJohnnnnnnnnnnn\u001b[39;49m\u001b[39m\"\u001b[39;49m, \u001b[39m1987\u001b[39;49m)\n",
      "\u001b[1;32mc:\\Users\\Nuri Buğra Demir\\Desktop\\Python Studies\\Python Basics\\errors.ipynb Cell 6\u001b[0m line \u001b[0;36m4\n\u001b[0;32m      <a href='vscode-notebook-cell:/c%3A/Users/Nuri%20Bu%C4%9Fra%20Demir/Desktop/Python%20Studies/Python%20Basics/errors.ipynb#W6sZmlsZQ%3D%3D?line=1'>2</a>\u001b[0m \u001b[39mdef\u001b[39;00m \u001b[39m__init__\u001b[39m(\u001b[39mself\u001b[39m, name, year):\n\u001b[0;32m      <a href='vscode-notebook-cell:/c%3A/Users/Nuri%20Bu%C4%9Fra%20Demir/Desktop/Python%20Studies/Python%20Basics/errors.ipynb#W6sZmlsZQ%3D%3D?line=2'>3</a>\u001b[0m     \u001b[39mif\u001b[39;00m \u001b[39mlen\u001b[39m(name) \u001b[39m>\u001b[39m \u001b[39m10\u001b[39m:\n\u001b[1;32m----> <a href='vscode-notebook-cell:/c%3A/Users/Nuri%20Bu%C4%9Fra%20Demir/Desktop/Python%20Studies/Python%20Basics/errors.ipynb#W6sZmlsZQ%3D%3D?line=3'>4</a>\u001b[0m         \u001b[39mraise\u001b[39;00m \u001b[39mException\u001b[39;00m(\u001b[39m\"\u001b[39m\u001b[39mName cannot be longer than 10 characters.\u001b[39m\u001b[39m\"\u001b[39m)\n\u001b[0;32m      <a href='vscode-notebook-cell:/c%3A/Users/Nuri%20Bu%C4%9Fra%20Demir/Desktop/Python%20Studies/Python%20Basics/errors.ipynb#W6sZmlsZQ%3D%3D?line=4'>5</a>\u001b[0m     \u001b[39melse\u001b[39;00m: \n\u001b[0;32m      <a href='vscode-notebook-cell:/c%3A/Users/Nuri%20Bu%C4%9Fra%20Demir/Desktop/Python%20Studies/Python%20Basics/errors.ipynb#W6sZmlsZQ%3D%3D?line=5'>6</a>\u001b[0m         \u001b[39mself\u001b[39m\u001b[39m.\u001b[39mname \u001b[39m=\u001b[39m name\n",
      "\u001b[1;31mException\u001b[0m: Name cannot be longer than 10 characters."
     ]
    }
   ],
   "source": [
    "class Person():\n",
    "    def __init__(self, name, year):\n",
    "        if len(name) > 10:\n",
    "            raise Exception(\"Name cannot be longer than 10 characters.\")\n",
    "        else: \n",
    "            self.name = name\n",
    "\n",
    "p = Person(\"Johnnnnnnnnnnn\", 1987)\n"
   ]
  }
 ],
 "metadata": {
  "kernelspec": {
   "display_name": "Python 3",
   "language": "python",
   "name": "python3"
  },
  "language_info": {
   "codemirror_mode": {
    "name": "ipython",
    "version": 3
   },
   "file_extension": ".py",
   "mimetype": "text/x-python",
   "name": "python",
   "nbconvert_exporter": "python",
   "pygments_lexer": "ipython3",
   "version": "3.11.4"
  }
 },
 "nbformat": 4,
 "nbformat_minor": 2
}
