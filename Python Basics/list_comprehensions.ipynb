{
 "cells": [
  {
   "cell_type": "markdown",
   "metadata": {},
   "source": [
    "List comprehensions in Python are a concise and efficient way to create lists. They provide a compact syntax for generating new lists by applying an expression to each item in an existing iterable (like a list or a range) and collecting the results. List comprehensions offer a readable and Pythonic way to perform common tasks, such as filtering, mapping, or creating derived lists, all in a single line of code. They are a valuable tool for developers to streamline their code and make it more expressive"
   ]
  },
  {
   "cell_type": "code",
   "execution_count": 6,
   "metadata": {},
   "outputs": [
    {
     "name": "stdout",
     "output_type": "stream",
     "text": [
      "[0, 1, 2, 3, 4, 5, 6, 7, 8, 9]\n",
      "********************\n",
      "[0, 1, 2, 3, 4, 5, 6, 7, 8, 9]\n"
     ]
    }
   ],
   "source": [
    "numbers1 = []\n",
    "for x in range(10):\n",
    "    numbers1.append(x)\n",
    "\n",
    "print(numbers1)\n",
    "\n",
    "print(\"*\" * 20)\n",
    "\n",
    "numbers2 = [x for x in range(10)]\n",
    "print(numbers2)"
   ]
  },
  {
   "cell_type": "code",
   "execution_count": 11,
   "metadata": {},
   "outputs": [
    {
     "name": "stdout",
     "output_type": "stream",
     "text": [
      "[0, 1, 4, 9, 16, 25, 36, 49, 64, 81]\n",
      "[0, 9, 36, 81]\n"
     ]
    }
   ],
   "source": [
    "numbers3 = [(x*x) for x in range(10)]\n",
    "print(numbers3)\n",
    "\n",
    "numbers4 = [(x*x) for x in range(10) if x % 3 == 0]\n",
    "print(numbers4)"
   ]
  },
  {
   "cell_type": "code",
   "execution_count": 13,
   "metadata": {},
   "outputs": [
    {
     "name": "stdout",
     "output_type": "stream",
     "text": [
      "[28, 26, 25, 23, 22, 21, 20, 19, 18]\n"
     ]
    }
   ],
   "source": [
    "# Calculating ages\n",
    "\n",
    "years = [1995, 1997, 1998, 2000, 2001, 2002, 2003, 2004, 2005]\n",
    "ages = [(2023 - year) for year in years]\n",
    "\n",
    "print(ages)"
   ]
  }
 ],
 "metadata": {
  "kernelspec": {
   "display_name": "Python 3",
   "language": "python",
   "name": "python3"
  },
  "language_info": {
   "codemirror_mode": {
    "name": "ipython",
    "version": 3
   },
   "file_extension": ".py",
   "mimetype": "text/x-python",
   "name": "python",
   "nbconvert_exporter": "python",
   "pygments_lexer": "ipython3",
   "version": "3.11.4"
  },
  "orig_nbformat": 4
 },
 "nbformat": 4,
 "nbformat_minor": 2
}
