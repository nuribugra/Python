{
 "cells": [
  {
   "cell_type": "markdown",
   "metadata": {},
   "source": [
    "\n",
    "In Python, a set is an unordered collection of unique elements. Sets are defined by enclosing a comma-separated sequence of elements in curly braces { }. Sets do not allow duplicate values, so each element in a set must be unique. Sets are mutable, which means you can add or remove elements from them after they are created. You can perform various operations on sets, such as union, intersection, and difference, making them useful for mathematical and data manipulation tasks."
   ]
  },
  {
   "cell_type": "code",
   "execution_count": 10,
   "metadata": {},
   "outputs": [
    {
     "name": "stdout",
     "output_type": "stream",
     "text": [
      "{'orange', 'apple', 'banana'}\n",
      "TypeError: 'set' object is not subscriptable\n",
      "orange\n",
      "apple\n",
      "banana\n",
      "**********\n",
      "New list {'banana', 'apple', 'peach', 'cherry', 'avocado', 'mango', 'orange', 'watermelon'}\n",
      "banana\n",
      "apple\n",
      "cherry\n",
      "avocado\n",
      "mango\n",
      "watermelon\n"
     ]
    }
   ],
   "source": [
    "fruits = {\"orange\", \"apple\", \"banana\"}\n",
    "\n",
    "print(fruits)\n",
    "\n",
    "try:\n",
    "    print(fruits[0]) # Not subscriptable\n",
    "except:\n",
    "    print(\"TypeError: 'set' object is not subscriptable\")\n",
    "\n",
    "for x in fruits:\n",
    "    print(x)\n",
    "\n",
    "print(\"**********\")\n",
    "\n",
    "fruits.add(\"cherry\")\n",
    "fruits.update([\"mango\", \"avocado\", \"watermelon\", \"peach\"])\n",
    "\n",
    "print(\"New list\", fruits)\n",
    "\n",
    "fruits.remove(\"peach\")\n",
    "fruits.discard(\"orange\")\n",
    "\n",
    "for x in fruits:\n",
    "    print(x)\n"
   ]
  }
 ],
 "metadata": {
  "kernelspec": {
   "display_name": "Python 3",
   "language": "python",
   "name": "python3"
  },
  "language_info": {
   "codemirror_mode": {
    "name": "ipython",
    "version": 3
   },
   "file_extension": ".py",
   "mimetype": "text/x-python",
   "name": "python",
   "nbconvert_exporter": "python",
   "pygments_lexer": "ipython3",
   "version": "3.11.4"
  },
  "orig_nbformat": 4
 },
 "nbformat": 4,
 "nbformat_minor": 2
}
