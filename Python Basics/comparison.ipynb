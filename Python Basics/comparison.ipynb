{
 "cells": [
  {
   "cell_type": "markdown",
   "metadata": {},
   "source": [
    "Comparison operators in Python are used to compare two values and determine the relationship between them. These operators include `==`, `!=`, `<`, `>`, `<=`, and `>=`.\n",
    "\n",
    "- `==` checks if two values are equal.\n",
    "- `!=` checks if two values are not equal.\n",
    "- `<` checks if the value on the left is less than the value on the right.\n",
    "- `>` checks if the value on the left is greater than the value on the right.\n",
    "- `<=` checks if the value on the left is less than or equal to the value on the right.\n",
    "- `>=` checks if the value on the left is greater than or equal to the value on the right.\n",
    "\n",
    "Comparison operators return Boolean values, `True` or `False`, depending on whether the comparison is true or false. These operators are essential for making decisions and controlling the flow of a Python program based on conditions."
   ]
  },
  {
   "cell_type": "code",
   "execution_count": 1,
   "metadata": {},
   "outputs": [
    {
     "name": "stdout",
     "output_type": "stream",
     "text": [
      "Equal: False\n",
      "Not Equal: True\n",
      "Less Than: False\n",
      "Greater Than: True\n",
      "Less Than or Equal: False\n",
      "Greater Than or Equal: True\n"
     ]
    }
   ],
   "source": [
    "x = 10\n",
    "y = 5\n",
    "\n",
    "# Equal operator (==)\n",
    "result_equal = x == y\n",
    "\n",
    "# Not equal operator (!=)\n",
    "result_not_equal = x != y\n",
    "\n",
    "# Less than operator (<)\n",
    "result_less_than = x < y\n",
    "\n",
    "# Greater than operator (>)\n",
    "result_greater_than = x > y\n",
    "\n",
    "# Less than or equal to operator (<=)\n",
    "result_less_than_or_equal = x <= y\n",
    "\n",
    "# Greater than or equal to operator (>=)\n",
    "result_greater_than_or_equal = x >= y\n",
    "\n",
    "# Print the results\n",
    "print(\"Equal:\", result_equal)\n",
    "print(\"Not Equal:\", result_not_equal)\n",
    "print(\"Less Than:\", result_less_than)\n",
    "print(\"Greater Than:\", result_greater_than)\n",
    "print(\"Less Than or Equal:\", result_less_than_or_equal)\n",
    "print(\"Greater Than or Equal:\", result_greater_than_or_equal)"
   ]
  }
 ],
 "metadata": {
  "kernelspec": {
   "display_name": "Python 3",
   "language": "python",
   "name": "python3"
  },
  "language_info": {
   "codemirror_mode": {
    "name": "ipython",
    "version": 3
   },
   "file_extension": ".py",
   "mimetype": "text/x-python",
   "name": "python",
   "nbconvert_exporter": "python",
   "pygments_lexer": "ipython3",
   "version": "3.11.4"
  },
  "orig_nbformat": 4
 },
 "nbformat": 4,
 "nbformat_minor": 2
}
