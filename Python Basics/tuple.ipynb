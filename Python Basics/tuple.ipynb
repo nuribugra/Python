{
 "cells": [
  {
   "cell_type": "markdown",
   "metadata": {},
   "source": [
    "Tuples are a crucial and versatile data structure in Python. They provide a way to store and manage collections of items, similar to lists. However, tuples have distinct characteristics that make them valuable in various programming scenarios."
   ]
  },
  {
   "cell_type": "code",
   "execution_count": 5,
   "metadata": {},
   "outputs": [
    {
     "name": "stdout",
     "output_type": "stream",
     "text": [
      "<class 'list'>\n",
      "1\n",
      "<class 'tuple'>\n",
      "iki\n"
     ]
    }
   ],
   "source": [
    "list = [1, 2, 3] \n",
    "\n",
    "tuple = (1, \"iki\", 3)\n",
    "\n",
    "print(type(list))\n",
    "print(list[0])\n",
    "print(type(tuple))\n",
    "print(tuple[1])"
   ]
  },
  {
   "cell_type": "markdown",
   "metadata": {},
   "source": [
    "In Python, both tuples and lists are used to store collections of items, but they have fundamental differences that make each suitable for specific situations\n",
    "\n",
    "- Lists are mutable, which means you can add, remove, or change elements after creation. Tuples are immutable, so once you define them, you cannot modify their content.\n",
    "\n",
    "- Lists can be modified while iterating over them. Tuples cannot be modified during iteration, ensuring data integrity.\n",
    "\n",
    "- Lists have more built-in methods for adding, removing, and manipulating elements. Tuples have fewer methods due to their immutability, focusing on data retrieval and basic operations."
   ]
  },
  {
   "cell_type": "code",
   "execution_count": 13,
   "metadata": {},
   "outputs": [
    {
     "name": "stdout",
     "output_type": "stream",
     "text": [
      "[True, 2, 3]\n",
      "*************\n",
      "Re-assign an item in tuples:\n",
      "TypeError: 'tuple' object does not support item assignment\n"
     ]
    }
   ],
   "source": [
    "list[0] = True\n",
    "print(list) # The first index changed.\n",
    "\n",
    "print(\"*************\")\n",
    "\n",
    "print(\"Re-assign an item in tuples:\")\n",
    "\n",
    "try:\n",
    "    tuple[0] = True\n",
    "    print(tuple)\n",
    "except:\n",
    "    print(\"TypeError: 'tuple' object does not support item assignment\") # It gives an error."
   ]
  }
 ],
 "metadata": {
  "kernelspec": {
   "display_name": "Python 3",
   "language": "python",
   "name": "python3"
  },
  "language_info": {
   "codemirror_mode": {
    "name": "ipython",
    "version": 3
   },
   "file_extension": ".py",
   "mimetype": "text/x-python",
   "name": "python",
   "nbconvert_exporter": "python",
   "pygments_lexer": "ipython3",
   "version": "3.11.4"
  },
  "orig_nbformat": 4
 },
 "nbformat": 4,
 "nbformat_minor": 2
}
