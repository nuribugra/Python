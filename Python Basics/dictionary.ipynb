{
 "cells": [
  {
   "cell_type": "markdown",
   "metadata": {},
   "source": [
    "A dictionary in Python is a versatile data structure used to store key-value pairs. Unlike lists or tuples, dictionaries do not have a specific order, and you access their elements using keys rather than numeric indices. Each key in a dictionary maps to a specific value, allowing you to organize and retrieve data efficiently."
   ]
  },
  {
   "cell_type": "code",
   "execution_count": 5,
   "metadata": {},
   "outputs": [
    {
     "name": "stdout",
     "output_type": "stream",
     "text": [
      "Plate: 41 City: Kocaeli\n",
      "Plate: 35 City: İzmir\n",
      "Plate: 34 City: İstanbul\n",
      "Plate: 26 City: Eskişehir\n",
      "*************\n",
      "{41: 'Kocaeli', 35: 'İzmir', 34: 'İstanbul', 26: 'Eskişehir', 48: 'Muğla'}\n"
     ]
    }
   ],
   "source": [
    "plates = {\n",
    "    41: \"Kocaeli\",\n",
    "    35: \"İzmir\",\n",
    "    34: \"İstanbul\",\n",
    "    26: \"Eskişehir\"\n",
    "}\n",
    "\n",
    "print(\"Plate:\", 41, \"City:\", plates[41])\n",
    "print(\"Plate:\", 35, \"City:\", plates[35])\n",
    "print(\"Plate:\", 34, \"City:\", plates[34])\n",
    "print(\"Plate:\", 26, \"City:\", plates[26])\n",
    "\n",
    "print(\"*************\")\n",
    "\n",
    "plates[48] = \"Muğla\" # When you assign a value to a non-existing key in a dictionary in Python using the equal sign, a new key-value pair is automatically added to the dictionary.\n",
    "\n",
    "print(plates)"
   ]
  },
  {
   "cell_type": "code",
   "execution_count": 12,
   "metadata": {},
   "outputs": [
    {
     "name": "stdout",
     "output_type": "stream",
     "text": [
      "{'age': 20, 'mail': 'nuribugra@example.com', 'address': 'İzmir', 'phone': '3123123123'}\n",
      "{'age': 6, 'mail': 'denizberk@example.com', 'address': 'Kocaeli', 'phone': '422342341'}\n",
      "********\n",
      "Total age is 26\n",
      "Nuri Buğra Demir lives in İzmir\n"
     ]
    }
   ],
   "source": [
    "users = {\n",
    "    \"nuribugra\" : {\n",
    "        \"age\" : 20,\n",
    "        \"mail\" : \"nuribugra@example.com\",\n",
    "        \"address\" : \"İzmir\",\n",
    "        \"phone\" : \"3123123123\"\n",
    "    },\n",
    "    \"denizberk\" : {\n",
    "        \"age\" : 6,\n",
    "        \"mail\" : \"denizberk@example.com\",\n",
    "        \"address\" : \"Kocaeli\",\n",
    "        \"phone\" : \"422342341\"\n",
    "    }\n",
    "}\n",
    "\n",
    "print(users[\"nuribugra\"])\n",
    "print(users[\"denizberk\"])\n",
    "\n",
    "print(\"********\")\n",
    "\n",
    "totalAge = users[\"denizberk\"][\"age\"] + users[\"nuribugra\"][\"age\"]\n",
    "\n",
    "print(\"Total age is\", totalAge)\n",
    "\n",
    "print(\"Nuri Buğra Demir lives in\", users[\"nuribugra\"][\"address\"])"
   ]
  }
 ],
 "metadata": {
  "kernelspec": {
   "display_name": "Python 3",
   "language": "python",
   "name": "python3"
  },
  "language_info": {
   "codemirror_mode": {
    "name": "ipython",
    "version": 3
   },
   "file_extension": ".py",
   "mimetype": "text/x-python",
   "name": "python",
   "nbconvert_exporter": "python",
   "pygments_lexer": "ipython3",
   "version": "3.11.4"
  },
  "orig_nbformat": 4
 },
 "nbformat": 4,
 "nbformat_minor": 2
}
